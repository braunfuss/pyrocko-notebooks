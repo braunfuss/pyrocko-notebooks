{
 "cells": [
  {
   "cell_type": "markdown",
   "metadata": {},
   "source": [
    "# Pyrocko Notebook\n",
    "## Double Couple Waveform Inversion (The 2009 Aquila Earthquake)\n",
    "\n",
    "In this Jupyter-notebook we look at teleseismic waveforms of the 2009 Aquila Earthquake and setup `pyrocko.gf` forward modelling to invert for the double couple mechanism of the event. We will use `pyrocko` to handle the seismic data and execute the forward modelling based on pre-calculated Green's function stores, `scipy` delivers the optimisation algorithms.\n",
    "Besides this Notebook you will also need to download the utils_nb.py file from this repository.\n",
    "\n",
    "_Authors:_\n",
    "Andreas Steinberg, Marius Isken\n",
    "\n",
    "-Nov. 2017"
   ]
  },
  {
   "cell_type": "code",
   "execution_count": 21,
   "metadata": {},
   "outputs": [],
   "source": [
    "%matplotlib inline\n",
    "import time\n",
    "import os\n",
    "import scipy\n",
    "import numpy as num\n",
    "import matplotlib.pyplot as plt\n",
    "import plotly.plotly as py\n",
    "from collections import OrderedDict\n",
    "\n",
    "import utils_nb\n",
    "\n",
    "from pyrocko import gf, trace\n",
    "from pyrocko import moment_tensor as mtm\n",
    "from pyrocko.gf import ws, LocalEngine, Target, DCSource\n",
    "from pyrocko import util, pile, model, config, trace, io, pile, catalog\n",
    "\n",
    "km = 1000."
   ]
  },
  {
   "cell_type": "markdown",
   "metadata": {},
   "source": [
    "### Optimisation Parameters\n",
    "Setup of the optimisation parameters, as well as boundaries for the source parameters."
   ]
  },
  {
   "cell_type": "code",
   "execution_count": 2,
   "metadata": {},
   "outputs": [],
   "source": [
    "component = 'Z'\n",
    "f_low = 0.05  # Hz, for a lowpass filter\n",
    "taper = trace.CosFader(xfade=2.0)  # Cosine taper, 2s fade\n",
    "\n",
    "phase = 'P' # Phase to fit\n",
    "tmin_fit = 15. # [s] to fit before synthetic phase onset (from GFStore)\n",
    "tmax_fit = 35. # [s] ... after\n",
    "\n",
    "bounds = OrderedDict([\n",
    "    ('north_shift', (-20.*km, 20.*km)),\n",
    "    ('east_shift', (-20.*km, 20.*km)),\n",
    "    ('depth', (3.*km, 8.*km)),\n",
    "    ('magnitude', (6.2, 6.4)),\n",
    "    ('strike', (100., 140.)),\n",
    "    ('dip', (40., 60.)),\n",
    "    ('rake', (-100, -150.)),\n",
    "    ('timeshift', (-20., 20.)),\n",
    "    ])"
   ]
  },
  {
   "cell_type": "markdown",
   "metadata": {},
   "source": [
    "### Load the Waveforms\n",
    "We download the instrument-corrected seismic waveforms and use a `pyrocko.pile` to manage the data."
   ]
  },
  {
   "cell_type": "code",
   "execution_count": 3,
   "metadata": {
    "scrolled": true
   },
   "outputs": [
    {
     "name": "stderr",
     "output_type": "stream",
     "text": [
      "selecting files... done. 58 files selected.\n",
      "Looking at files [-----------------------------------------] 100% Time: 0:00:00\n",
      "Scanning files [-------------------------------------------] 100% Time: 0:00:00\n",
      "Cannot read file '/home/marius/Development/pyrocko-notebooks/data/aquila_realdata/stations_short.txt': No SEED data detected (file: /home/marius/Development/pyrocko-notebooks/data/aquila_realdata/stations_short.txt)\n",
      "The following file caused problems and will be ignored:\n",
      "/home/marius/Development/pyrocko-notebooks/data/aquila_realdata/stations_short.txt\n"
     ]
    }
   ],
   "source": [
    "# Download the instrument-corrected 2009 Aquila Earthquake data\n",
    "data_path = utils_nb.download_dir('aquila_realdata/')\n",
    "data = pile.make_pile([data_path])\n",
    "traces = data.all()  # retrieves the raw waveform data as a 2D `numpy.array`.\n",
    "\n",
    "for tr in traces:\n",
    "    tr.lowpass(4, f_low)"
   ]
  },
  {
   "cell_type": "markdown",
   "metadata": {},
   "source": [
    "### Initialize Forward Modelling Engine (Seismosizer)\n",
    "We download the precalculated Green's function database (`Store`) *global_2s_25km* from http://kinherd.org"
   ]
  },
  {
   "cell_type": "code",
   "execution_count": 4,
   "metadata": {},
   "outputs": [],
   "source": [
    "store_id = 'global_2s_25km'\n",
    "if not os.path.exists(store_id):\n",
    "    ws.download_gf_store(site='kinherd', store_id=store_id)"
   ]
  },
  {
   "cell_type": "markdown",
   "metadata": {},
   "source": [
    "Now we fire up the `engine` to forward model synthetic seismograms on our _global_2s_25km_ GF database."
   ]
  },
  {
   "cell_type": "code",
   "execution_count": 5,
   "metadata": {},
   "outputs": [],
   "source": [
    "engine = gf.LocalEngine(store_superdirs=['.']) # The Path to where the gf_store(s)\n",
    "store = engine.get_store(store_id)  # Load the store."
   ]
  },
  {
   "cell_type": "markdown",
   "metadata": {},
   "source": [
    "### Get GlobalCMT Start Model\n",
    "We use the GlobalCMT catalog to search for the 2009 Aquila Earthquake and initalize a source for the starting model."
   ]
  },
  {
   "cell_type": "code",
   "execution_count": 6,
   "metadata": {},
   "outputs": [],
   "source": [
    "tmin = util.str_to_time('2009-04-06 00:00:00')  # beginning time of query\n",
    "tmax = util.str_to_time('2009-04-06 05:59:59')  # ending time of query\n",
    "event = catalog.GlobalCMT().get_events(\n",
    "    time_range=(tmin, tmax),\n",
    "    magmin=6.)[0]\n",
    "\n",
    "base_source = gf.MTSource.from_pyrocko_event(event)"
   ]
  },
  {
   "cell_type": "markdown",
   "metadata": {},
   "source": [
    "### Station and _Target_ Setup\n",
    "We use the term _Target_ for a single component of a single station."
   ]
  },
  {
   "cell_type": "code",
   "execution_count": 7,
   "metadata": {},
   "outputs": [],
   "source": [
    "stations_list = model.load_stations('data/aquila_realdata/stations_short.txt')\n",
    "for s in stations_list:\n",
    "    s.set_channels_by_name(*component.split())"
   ]
  },
  {
   "cell_type": "markdown",
   "metadata": {},
   "source": [
    "Next we define the `Target` - where to calculate the synthetic seismogram."
   ]
  },
  {
   "cell_type": "code",
   "execution_count": 8,
   "metadata": {},
   "outputs": [],
   "source": [
    "targets=[]\n",
    "for s in stations_list:\n",
    "    target = Target(\n",
    "            lat=s.lat,\n",
    "            lon=s.lon,\n",
    "            store_id=store_id,   # The gf-store to be used for this target,\n",
    "            interpolation='multilinear',  # Interpolation method between GFStore nodes\n",
    "            quantity='displacement',\n",
    "            codes=s.nsl() + ('BH' + component,))\n",
    "    targets.append(target)"
   ]
  },
  {
   "cell_type": "markdown",
   "metadata": {},
   "source": [
    "### Objective Function\n",
    "Now the objective function that will be called by `scipy.optimize`:"
   ]
  },
  {
   "cell_type": "code",
   "execution_count": 12,
   "metadata": {},
   "outputs": [],
   "source": [
    "source = gf.DCSource(\n",
    "    lat=event.lat,\n",
    "    lon=event.lon)\n",
    "\n",
    "def update_source(params):\n",
    "    s = source\n",
    "    s.north_shift = float(params[0])\n",
    "    s.east_shift = float(params[1])\n",
    "    s.depth = float(params[2])\n",
    "    s.magnitude = float(params[3])\n",
    "    s.strike = float(params[4])\n",
    "    s.dip = float(params[5])\n",
    "    s.rake = float(params[6])\n",
    "    s.time = float(event.time - params[7])\n",
    "    return source\n",
    "\n",
    "def process_trace(trace, tmin, tmax, lowpass=False, inplace=True):\n",
    "    if lowpass:\n",
    "        trace.lowpass(4, f_low)\n",
    "    trace = trace.chop(tmin, tmax, inplace=inplace)\n",
    "    trace.taper(taper)\n",
    "    return trace\n",
    "\n",
    "iiter = 0\n",
    "\n",
    "def trace_fit(params, line=None):\n",
    "    global iiter\n",
    "    update_source(params)\n",
    "\n",
    "    # Forward model synthetic seismograms\n",
    "    response = engine.process(source, targets)\n",
    "    syn_traces = response.pyrocko_traces()\n",
    "\n",
    "    misfits = 0.\n",
    "    norms = 0.\n",
    "\n",
    "    for obs, syn, target in zip(traces, syn_traces, targets):\n",
    "        syn_phs = store.t(phase, base_source, target)\n",
    "        \n",
    "        tmin = base_source.time + syn_phs - tmin_fit  # start before theor. arrival\n",
    "        tmax = base_source.time + syn_phs + tmax_fit  # end after theor. arrival\n",
    "        \n",
    "        syn = process_trace(syn, tmin, tmax)\n",
    "        obs = process_trace(obs, tmin, tmax, lowpass=False, inplace=True)\n",
    "\n",
    "        misfits += num.sqrt(num.sum((obs.ydata - syn.ydata)**2))\n",
    "        norms += num.sqrt(num.sum(obs.ydata**2))\n",
    "    \n",
    "    misfit = num.sqrt(misfits**2 / norms**2)\n",
    "    \n",
    "    iiter += 1\n",
    "\n",
    "    if line:\n",
    "        data = {\n",
    "            'y': [misfit],\n",
    "            'x': [iiter],\n",
    "        }\n",
    "        line.data_source.stream(data)\n",
    "\n",
    "    return misfit"
   ]
  },
  {
   "cell_type": "markdown",
   "metadata": {},
   "source": [
    "#### Running the optimization and plotting of the Convergence\n",
    "For plotting we use bokeh (which you might need to install: `pip3 install bokeh`)  \n",
    "Jupyter Lab also requires the Bokeh extension: `jupyter labextension install jupyterlab_bokeh`  \n",
    "More info at https://bokeh.pydata.org/en/latest/docs/user_guide/notebook.html"
   ]
  },
  {
   "cell_type": "code",
   "execution_count": 13,
   "metadata": {},
   "outputs": [
    {
     "data": {
      "text/html": [
       "\n",
       "    <div class=\"bk-root\">\n",
       "        <a href=\"https://bokeh.pydata.org\" target=\"_blank\" class=\"bk-logo bk-logo-small bk-logo-notebook\"></a>\n",
       "        <span id=\"1098\">Loading BokehJS ...</span>\n",
       "    </div>"
      ]
     },
     "metadata": {},
     "output_type": "display_data"
    },
    {
     "data": {
      "application/javascript": [
       "\n",
       "(function(root) {\n",
       "  function now() {\n",
       "    return new Date();\n",
       "  }\n",
       "\n",
       "  var force = true;\n",
       "\n",
       "  if (typeof root._bokeh_onload_callbacks === \"undefined\" || force === true) {\n",
       "    root._bokeh_onload_callbacks = [];\n",
       "    root._bokeh_is_loading = undefined;\n",
       "  }\n",
       "\n",
       "  var JS_MIME_TYPE = 'application/javascript';\n",
       "  var HTML_MIME_TYPE = 'text/html';\n",
       "  var EXEC_MIME_TYPE = 'application/vnd.bokehjs_exec.v0+json';\n",
       "  var CLASS_NAME = 'output_bokeh rendered_html';\n",
       "\n",
       "  /**\n",
       "   * Render data to the DOM node\n",
       "   */\n",
       "  function render(props, node) {\n",
       "    var script = document.createElement(\"script\");\n",
       "    node.appendChild(script);\n",
       "  }\n",
       "\n",
       "  /**\n",
       "   * Handle when an output is cleared or removed\n",
       "   */\n",
       "  function handleClearOutput(event, handle) {\n",
       "    var cell = handle.cell;\n",
       "\n",
       "    var id = cell.output_area._bokeh_element_id;\n",
       "    var server_id = cell.output_area._bokeh_server_id;\n",
       "    // Clean up Bokeh references\n",
       "    if (id != null && id in Bokeh.index) {\n",
       "      Bokeh.index[id].model.document.clear();\n",
       "      delete Bokeh.index[id];\n",
       "    }\n",
       "\n",
       "    if (server_id !== undefined) {\n",
       "      // Clean up Bokeh references\n",
       "      var cmd = \"from bokeh.io.state import curstate; print(curstate().uuid_to_server['\" + server_id + \"'].get_sessions()[0].document.roots[0]._id)\";\n",
       "      cell.notebook.kernel.execute(cmd, {\n",
       "        iopub: {\n",
       "          output: function(msg) {\n",
       "            var id = msg.content.text.trim();\n",
       "            if (id in Bokeh.index) {\n",
       "              Bokeh.index[id].model.document.clear();\n",
       "              delete Bokeh.index[id];\n",
       "            }\n",
       "          }\n",
       "        }\n",
       "      });\n",
       "      // Destroy server and session\n",
       "      var cmd = \"import bokeh.io.notebook as ion; ion.destroy_server('\" + server_id + \"')\";\n",
       "      cell.notebook.kernel.execute(cmd);\n",
       "    }\n",
       "  }\n",
       "\n",
       "  /**\n",
       "   * Handle when a new output is added\n",
       "   */\n",
       "  function handleAddOutput(event, handle) {\n",
       "    var output_area = handle.output_area;\n",
       "    var output = handle.output;\n",
       "\n",
       "    // limit handleAddOutput to display_data with EXEC_MIME_TYPE content only\n",
       "    if ((output.output_type != \"display_data\") || (!output.data.hasOwnProperty(EXEC_MIME_TYPE))) {\n",
       "      return\n",
       "    }\n",
       "\n",
       "    var toinsert = output_area.element.find(\".\" + CLASS_NAME.split(' ')[0]);\n",
       "\n",
       "    if (output.metadata[EXEC_MIME_TYPE][\"id\"] !== undefined) {\n",
       "      toinsert[toinsert.length - 1].firstChild.textContent = output.data[JS_MIME_TYPE];\n",
       "      // store reference to embed id on output_area\n",
       "      output_area._bokeh_element_id = output.metadata[EXEC_MIME_TYPE][\"id\"];\n",
       "    }\n",
       "    if (output.metadata[EXEC_MIME_TYPE][\"server_id\"] !== undefined) {\n",
       "      var bk_div = document.createElement(\"div\");\n",
       "      bk_div.innerHTML = output.data[HTML_MIME_TYPE];\n",
       "      var script_attrs = bk_div.children[0].attributes;\n",
       "      for (var i = 0; i < script_attrs.length; i++) {\n",
       "        toinsert[toinsert.length - 1].firstChild.setAttribute(script_attrs[i].name, script_attrs[i].value);\n",
       "      }\n",
       "      // store reference to server id on output_area\n",
       "      output_area._bokeh_server_id = output.metadata[EXEC_MIME_TYPE][\"server_id\"];\n",
       "    }\n",
       "  }\n",
       "\n",
       "  function register_renderer(events, OutputArea) {\n",
       "\n",
       "    function append_mime(data, metadata, element) {\n",
       "      // create a DOM node to render to\n",
       "      var toinsert = this.create_output_subarea(\n",
       "        metadata,\n",
       "        CLASS_NAME,\n",
       "        EXEC_MIME_TYPE\n",
       "      );\n",
       "      this.keyboard_manager.register_events(toinsert);\n",
       "      // Render to node\n",
       "      var props = {data: data, metadata: metadata[EXEC_MIME_TYPE]};\n",
       "      render(props, toinsert[toinsert.length - 1]);\n",
       "      element.append(toinsert);\n",
       "      return toinsert\n",
       "    }\n",
       "\n",
       "    /* Handle when an output is cleared or removed */\n",
       "    events.on('clear_output.CodeCell', handleClearOutput);\n",
       "    events.on('delete.Cell', handleClearOutput);\n",
       "\n",
       "    /* Handle when a new output is added */\n",
       "    events.on('output_added.OutputArea', handleAddOutput);\n",
       "\n",
       "    /**\n",
       "     * Register the mime type and append_mime function with output_area\n",
       "     */\n",
       "    OutputArea.prototype.register_mime_type(EXEC_MIME_TYPE, append_mime, {\n",
       "      /* Is output safe? */\n",
       "      safe: true,\n",
       "      /* Index of renderer in `output_area.display_order` */\n",
       "      index: 0\n",
       "    });\n",
       "  }\n",
       "\n",
       "  // register the mime type if in Jupyter Notebook environment and previously unregistered\n",
       "  if (root.Jupyter !== undefined) {\n",
       "    var events = require('base/js/events');\n",
       "    var OutputArea = require('notebook/js/outputarea').OutputArea;\n",
       "\n",
       "    if (OutputArea.prototype.mime_types().indexOf(EXEC_MIME_TYPE) == -1) {\n",
       "      register_renderer(events, OutputArea);\n",
       "    }\n",
       "  }\n",
       "\n",
       "  \n",
       "  if (typeof (root._bokeh_timeout) === \"undefined\" || force === true) {\n",
       "    root._bokeh_timeout = Date.now() + 5000;\n",
       "    root._bokeh_failed_load = false;\n",
       "  }\n",
       "\n",
       "  var NB_LOAD_WARNING = {'data': {'text/html':\n",
       "     \"<div style='background-color: #fdd'>\\n\"+\n",
       "     \"<p>\\n\"+\n",
       "     \"BokehJS does not appear to have successfully loaded. If loading BokehJS from CDN, this \\n\"+\n",
       "     \"may be due to a slow or bad network connection. Possible fixes:\\n\"+\n",
       "     \"</p>\\n\"+\n",
       "     \"<ul>\\n\"+\n",
       "     \"<li>re-rerun `output_notebook()` to attempt to load from CDN again, or</li>\\n\"+\n",
       "     \"<li>use INLINE resources instead, as so:</li>\\n\"+\n",
       "     \"</ul>\\n\"+\n",
       "     \"<code>\\n\"+\n",
       "     \"from bokeh.resources import INLINE\\n\"+\n",
       "     \"output_notebook(resources=INLINE)\\n\"+\n",
       "     \"</code>\\n\"+\n",
       "     \"</div>\"}};\n",
       "\n",
       "  function display_loaded() {\n",
       "    var el = document.getElementById(\"1098\");\n",
       "    if (el != null) {\n",
       "      el.textContent = \"BokehJS is loading...\";\n",
       "    }\n",
       "    if (root.Bokeh !== undefined) {\n",
       "      if (el != null) {\n",
       "        el.textContent = \"BokehJS \" + root.Bokeh.version + \" successfully loaded.\";\n",
       "      }\n",
       "    } else if (Date.now() < root._bokeh_timeout) {\n",
       "      setTimeout(display_loaded, 100)\n",
       "    }\n",
       "  }\n",
       "\n",
       "\n",
       "  function run_callbacks() {\n",
       "    try {\n",
       "      root._bokeh_onload_callbacks.forEach(function(callback) {\n",
       "        if (callback != null)\n",
       "          callback();\n",
       "      });\n",
       "    } finally {\n",
       "      delete root._bokeh_onload_callbacks\n",
       "    }\n",
       "    console.debug(\"Bokeh: all callbacks have finished\");\n",
       "  }\n",
       "\n",
       "  function load_libs(css_urls, js_urls, callback) {\n",
       "    if (css_urls == null) css_urls = [];\n",
       "    if (js_urls == null) js_urls = [];\n",
       "\n",
       "    root._bokeh_onload_callbacks.push(callback);\n",
       "    if (root._bokeh_is_loading > 0) {\n",
       "      console.debug(\"Bokeh: BokehJS is being loaded, scheduling callback at\", now());\n",
       "      return null;\n",
       "    }\n",
       "    if (js_urls == null || js_urls.length === 0) {\n",
       "      run_callbacks();\n",
       "      return null;\n",
       "    }\n",
       "    console.debug(\"Bokeh: BokehJS not loaded, scheduling load and callback at\", now());\n",
       "    root._bokeh_is_loading = css_urls.length + js_urls.length;\n",
       "\n",
       "    function on_load() {\n",
       "      root._bokeh_is_loading--;\n",
       "      if (root._bokeh_is_loading === 0) {\n",
       "        console.debug(\"Bokeh: all BokehJS libraries/stylesheets loaded\");\n",
       "        run_callbacks()\n",
       "      }\n",
       "    }\n",
       "\n",
       "    function on_error() {\n",
       "      console.error(\"failed to load \" + url);\n",
       "    }\n",
       "\n",
       "    for (var i = 0; i < css_urls.length; i++) {\n",
       "      var url = css_urls[i];\n",
       "      const element = document.createElement(\"link\");\n",
       "      element.onload = on_load;\n",
       "      element.onerror = on_error;\n",
       "      element.rel = \"stylesheet\";\n",
       "      element.type = \"text/css\";\n",
       "      element.href = url;\n",
       "      console.debug(\"Bokeh: injecting link tag for BokehJS stylesheet: \", url);\n",
       "      document.body.appendChild(element);\n",
       "    }\n",
       "\n",
       "    for (var i = 0; i < js_urls.length; i++) {\n",
       "      var url = js_urls[i];\n",
       "      var element = document.createElement('script');\n",
       "      element.onload = on_load;\n",
       "      element.onerror = on_error;\n",
       "      element.async = false;\n",
       "      element.src = url;\n",
       "      console.debug(\"Bokeh: injecting script tag for BokehJS library: \", url);\n",
       "      document.head.appendChild(element);\n",
       "    }\n",
       "  };var element = document.getElementById(\"1098\");\n",
       "  if (element == null) {\n",
       "    console.error(\"Bokeh: ERROR: autoload.js configured with elementid '1098' but no matching script tag was found. \")\n",
       "    return false;\n",
       "  }\n",
       "\n",
       "  function inject_raw_css(css) {\n",
       "    const element = document.createElement(\"style\");\n",
       "    element.appendChild(document.createTextNode(css));\n",
       "    document.body.appendChild(element);\n",
       "  }\n",
       "\n",
       "  var js_urls = [\"https://cdn.pydata.org/bokeh/release/bokeh-1.1.0.min.js\", \"https://cdn.pydata.org/bokeh/release/bokeh-widgets-1.1.0.min.js\", \"https://cdn.pydata.org/bokeh/release/bokeh-tables-1.1.0.min.js\", \"https://cdn.pydata.org/bokeh/release/bokeh-gl-1.1.0.min.js\"];\n",
       "  var css_urls = [\"https://cdn.pydata.org/bokeh/release/bokeh-1.1.0.min.css\", \"https://cdn.pydata.org/bokeh/release/bokeh-widgets-1.1.0.min.css\", \"https://cdn.pydata.org/bokeh/release/bokeh-tables-1.1.0.min.css\"];\n",
       "\n",
       "  var inline_js = [\n",
       "    function(Bokeh) {\n",
       "      Bokeh.set_log_level(\"info\");\n",
       "    },\n",
       "    \n",
       "    function(Bokeh) {\n",
       "      \n",
       "    },\n",
       "    function(Bokeh) {} // ensure no trailing comma for IE\n",
       "  ];\n",
       "\n",
       "  function run_inline_js() {\n",
       "    \n",
       "    if ((root.Bokeh !== undefined) || (force === true)) {\n",
       "      for (var i = 0; i < inline_js.length; i++) {\n",
       "        inline_js[i].call(root, root.Bokeh);\n",
       "      }if (force === true) {\n",
       "        display_loaded();\n",
       "      }} else if (Date.now() < root._bokeh_timeout) {\n",
       "      setTimeout(run_inline_js, 100);\n",
       "    } else if (!root._bokeh_failed_load) {\n",
       "      console.log(\"Bokeh: BokehJS failed to load within specified timeout.\");\n",
       "      root._bokeh_failed_load = true;\n",
       "    } else if (force !== true) {\n",
       "      var cell = $(document.getElementById(\"1098\")).parents('.cell').data().cell;\n",
       "      cell.output_area.append_execute_result(NB_LOAD_WARNING)\n",
       "    }\n",
       "\n",
       "  }\n",
       "\n",
       "  if (root._bokeh_is_loading === 0) {\n",
       "    console.debug(\"Bokeh: BokehJS loaded, going straight to plotting\");\n",
       "    run_inline_js();\n",
       "  } else {\n",
       "    load_libs(css_urls, js_urls, function() {\n",
       "      console.debug(\"Bokeh: BokehJS plotting callback run at\", now());\n",
       "      run_inline_js();\n",
       "    });\n",
       "  }\n",
       "}(window));"
      ],
      "application/vnd.bokehjs_load.v0+json": "\n(function(root) {\n  function now() {\n    return new Date();\n  }\n\n  var force = true;\n\n  if (typeof root._bokeh_onload_callbacks === \"undefined\" || force === true) {\n    root._bokeh_onload_callbacks = [];\n    root._bokeh_is_loading = undefined;\n  }\n\n  \n\n  \n  if (typeof (root._bokeh_timeout) === \"undefined\" || force === true) {\n    root._bokeh_timeout = Date.now() + 5000;\n    root._bokeh_failed_load = false;\n  }\n\n  var NB_LOAD_WARNING = {'data': {'text/html':\n     \"<div style='background-color: #fdd'>\\n\"+\n     \"<p>\\n\"+\n     \"BokehJS does not appear to have successfully loaded. If loading BokehJS from CDN, this \\n\"+\n     \"may be due to a slow or bad network connection. Possible fixes:\\n\"+\n     \"</p>\\n\"+\n     \"<ul>\\n\"+\n     \"<li>re-rerun `output_notebook()` to attempt to load from CDN again, or</li>\\n\"+\n     \"<li>use INLINE resources instead, as so:</li>\\n\"+\n     \"</ul>\\n\"+\n     \"<code>\\n\"+\n     \"from bokeh.resources import INLINE\\n\"+\n     \"output_notebook(resources=INLINE)\\n\"+\n     \"</code>\\n\"+\n     \"</div>\"}};\n\n  function display_loaded() {\n    var el = document.getElementById(\"1098\");\n    if (el != null) {\n      el.textContent = \"BokehJS is loading...\";\n    }\n    if (root.Bokeh !== undefined) {\n      if (el != null) {\n        el.textContent = \"BokehJS \" + root.Bokeh.version + \" successfully loaded.\";\n      }\n    } else if (Date.now() < root._bokeh_timeout) {\n      setTimeout(display_loaded, 100)\n    }\n  }\n\n\n  function run_callbacks() {\n    try {\n      root._bokeh_onload_callbacks.forEach(function(callback) {\n        if (callback != null)\n          callback();\n      });\n    } finally {\n      delete root._bokeh_onload_callbacks\n    }\n    console.debug(\"Bokeh: all callbacks have finished\");\n  }\n\n  function load_libs(css_urls, js_urls, callback) {\n    if (css_urls == null) css_urls = [];\n    if (js_urls == null) js_urls = [];\n\n    root._bokeh_onload_callbacks.push(callback);\n    if (root._bokeh_is_loading > 0) {\n      console.debug(\"Bokeh: BokehJS is being loaded, scheduling callback at\", now());\n      return null;\n    }\n    if (js_urls == null || js_urls.length === 0) {\n      run_callbacks();\n      return null;\n    }\n    console.debug(\"Bokeh: BokehJS not loaded, scheduling load and callback at\", now());\n    root._bokeh_is_loading = css_urls.length + js_urls.length;\n\n    function on_load() {\n      root._bokeh_is_loading--;\n      if (root._bokeh_is_loading === 0) {\n        console.debug(\"Bokeh: all BokehJS libraries/stylesheets loaded\");\n        run_callbacks()\n      }\n    }\n\n    function on_error() {\n      console.error(\"failed to load \" + url);\n    }\n\n    for (var i = 0; i < css_urls.length; i++) {\n      var url = css_urls[i];\n      const element = document.createElement(\"link\");\n      element.onload = on_load;\n      element.onerror = on_error;\n      element.rel = \"stylesheet\";\n      element.type = \"text/css\";\n      element.href = url;\n      console.debug(\"Bokeh: injecting link tag for BokehJS stylesheet: \", url);\n      document.body.appendChild(element);\n    }\n\n    for (var i = 0; i < js_urls.length; i++) {\n      var url = js_urls[i];\n      var element = document.createElement('script');\n      element.onload = on_load;\n      element.onerror = on_error;\n      element.async = false;\n      element.src = url;\n      console.debug(\"Bokeh: injecting script tag for BokehJS library: \", url);\n      document.head.appendChild(element);\n    }\n  };var element = document.getElementById(\"1098\");\n  if (element == null) {\n    console.error(\"Bokeh: ERROR: autoload.js configured with elementid '1098' but no matching script tag was found. \")\n    return false;\n  }\n\n  function inject_raw_css(css) {\n    const element = document.createElement(\"style\");\n    element.appendChild(document.createTextNode(css));\n    document.body.appendChild(element);\n  }\n\n  var js_urls = [\"https://cdn.pydata.org/bokeh/release/bokeh-1.1.0.min.js\", \"https://cdn.pydata.org/bokeh/release/bokeh-widgets-1.1.0.min.js\", \"https://cdn.pydata.org/bokeh/release/bokeh-tables-1.1.0.min.js\", \"https://cdn.pydata.org/bokeh/release/bokeh-gl-1.1.0.min.js\"];\n  var css_urls = [\"https://cdn.pydata.org/bokeh/release/bokeh-1.1.0.min.css\", \"https://cdn.pydata.org/bokeh/release/bokeh-widgets-1.1.0.min.css\", \"https://cdn.pydata.org/bokeh/release/bokeh-tables-1.1.0.min.css\"];\n\n  var inline_js = [\n    function(Bokeh) {\n      Bokeh.set_log_level(\"info\");\n    },\n    \n    function(Bokeh) {\n      \n    },\n    function(Bokeh) {} // ensure no trailing comma for IE\n  ];\n\n  function run_inline_js() {\n    \n    if ((root.Bokeh !== undefined) || (force === true)) {\n      for (var i = 0; i < inline_js.length; i++) {\n        inline_js[i].call(root, root.Bokeh);\n      }if (force === true) {\n        display_loaded();\n      }} else if (Date.now() < root._bokeh_timeout) {\n      setTimeout(run_inline_js, 100);\n    } else if (!root._bokeh_failed_load) {\n      console.log(\"Bokeh: BokehJS failed to load within specified timeout.\");\n      root._bokeh_failed_load = true;\n    } else if (force !== true) {\n      var cell = $(document.getElementById(\"1098\")).parents('.cell').data().cell;\n      cell.output_area.append_execute_result(NB_LOAD_WARNING)\n    }\n\n  }\n\n  if (root._bokeh_is_loading === 0) {\n    console.debug(\"Bokeh: BokehJS loaded, going straight to plotting\");\n    run_inline_js();\n  } else {\n    load_libs(css_urls, js_urls, function() {\n      console.debug(\"Bokeh: BokehJS plotting callback run at\", now());\n      run_inline_js();\n    });\n  }\n}(window));"
     },
     "metadata": {},
     "output_type": "display_data"
    },
    {
     "data": {
      "text/html": [
       "\n",
       "\n",
       "\n",
       "\n",
       "\n",
       "\n",
       "  <div class=\"bk-root\" id=\"a8b5fc8f-ed23-4097-aa5d-f731fcd61c93\" data-root-id=\"1099\"></div>\n"
      ]
     },
     "metadata": {},
     "output_type": "display_data"
    },
    {
     "data": {
      "application/javascript": [
       "(function(root) {\n",
       "  function embed_document(root) {\n",
       "    \n",
       "  var docs_json = {\"7d7c42af-c8d3-4041-bd78-9a421faa097c\":{\"roots\":{\"references\":[{\"attributes\":{\"below\":[{\"id\":\"1110\",\"type\":\"LinearAxis\"}],\"center\":[{\"id\":\"1114\",\"type\":\"Grid\"},{\"id\":\"1119\",\"type\":\"Grid\"}],\"left\":[{\"id\":\"1115\",\"type\":\"LinearAxis\"}],\"plot_height\":300,\"plot_width\":800,\"renderers\":[{\"id\":\"1136\",\"type\":\"GlyphRenderer\"}],\"title\":{\"id\":\"1100\",\"type\":\"Title\"},\"toolbar\":{\"id\":\"1126\",\"type\":\"Toolbar\"},\"x_range\":{\"id\":\"1102\",\"type\":\"DataRange1d\"},\"x_scale\":{\"id\":\"1106\",\"type\":\"LinearScale\"},\"y_range\":{\"id\":\"1104\",\"type\":\"DataRange1d\"},\"y_scale\":{\"id\":\"1108\",\"type\":\"LinearScale\"}},\"id\":\"1099\",\"subtype\":\"Figure\",\"type\":\"Plot\"},{\"attributes\":{\"active_drag\":\"auto\",\"active_inspect\":\"auto\",\"active_multi\":null,\"active_scroll\":\"auto\",\"active_tap\":\"auto\",\"tools\":[{\"id\":\"1120\",\"type\":\"PanTool\"},{\"id\":\"1121\",\"type\":\"WheelZoomTool\"},{\"id\":\"1122\",\"type\":\"BoxZoomTool\"},{\"id\":\"1123\",\"type\":\"SaveTool\"},{\"id\":\"1124\",\"type\":\"ResetTool\"},{\"id\":\"1125\",\"type\":\"HelpTool\"}]},\"id\":\"1126\",\"type\":\"Toolbar\"},{\"attributes\":{\"source\":{\"id\":\"1133\",\"type\":\"ColumnDataSource\"}},\"id\":\"1137\",\"type\":\"CDSView\"},{\"attributes\":{\"data_source\":{\"id\":\"1133\",\"type\":\"ColumnDataSource\"},\"glyph\":{\"id\":\"1134\",\"type\":\"Scatter\"},\"hover_glyph\":null,\"muted_glyph\":null,\"nonselection_glyph\":{\"id\":\"1135\",\"type\":\"Scatter\"},\"selection_glyph\":null,\"view\":{\"id\":\"1137\",\"type\":\"CDSView\"}},\"id\":\"1136\",\"type\":\"GlyphRenderer\"},{\"attributes\":{\"axis_label\":\"Misfit\",\"formatter\":{\"id\":\"1150\",\"type\":\"BasicTickFormatter\"},\"ticker\":{\"id\":\"1116\",\"type\":\"BasicTicker\"}},\"id\":\"1115\",\"type\":\"LinearAxis\"},{\"attributes\":{\"axis_label\":\"# Iteration\",\"formatter\":{\"id\":\"1148\",\"type\":\"BasicTickFormatter\"},\"ticker\":{\"id\":\"1111\",\"type\":\"BasicTicker\"}},\"id\":\"1110\",\"type\":\"LinearAxis\"},{\"attributes\":{},\"id\":\"1125\",\"type\":\"HelpTool\"},{\"attributes\":{\"bottom_units\":\"screen\",\"fill_alpha\":{\"value\":0.5},\"fill_color\":{\"value\":\"lightgrey\"},\"left_units\":\"screen\",\"level\":\"overlay\",\"line_alpha\":{\"value\":1.0},\"line_color\":{\"value\":\"black\"},\"line_dash\":[4,4],\"line_width\":{\"value\":2},\"render_mode\":\"css\",\"right_units\":\"screen\",\"top_units\":\"screen\"},\"id\":\"1153\",\"type\":\"BoxAnnotation\"},{\"attributes\":{},\"id\":\"1148\",\"type\":\"BasicTickFormatter\"},{\"attributes\":{\"text\":\"SciPy Optimisation Progress\"},\"id\":\"1100\",\"type\":\"Title\"},{\"attributes\":{\"overlay\":{\"id\":\"1153\",\"type\":\"BoxAnnotation\"}},\"id\":\"1122\",\"type\":\"BoxZoomTool\"},{\"attributes\":{\"fill_color\":{\"value\":\"#1f77b4\"},\"line_color\":{\"value\":\"#1f77b4\"},\"x\":{\"field\":\"x\"},\"y\":{\"field\":\"y\"}},\"id\":\"1134\",\"type\":\"Scatter\"},{\"attributes\":{},\"id\":\"1151\",\"type\":\"UnionRenderers\"},{\"attributes\":{},\"id\":\"1152\",\"type\":\"Selection\"},{\"attributes\":{\"callback\":null},\"id\":\"1102\",\"type\":\"DataRange1d\"},{\"attributes\":{},\"id\":\"1116\",\"type\":\"BasicTicker\"},{\"attributes\":{},\"id\":\"1150\",\"type\":\"BasicTickFormatter\"},{\"attributes\":{\"fill_alpha\":{\"value\":0.1},\"fill_color\":{\"value\":\"#1f77b4\"},\"line_alpha\":{\"value\":0.1},\"line_color\":{\"value\":\"#1f77b4\"},\"x\":{\"field\":\"x\"},\"y\":{\"field\":\"y\"}},\"id\":\"1135\",\"type\":\"Scatter\"},{\"attributes\":{},\"id\":\"1124\",\"type\":\"ResetTool\"},{\"attributes\":{\"dimension\":1,\"ticker\":{\"id\":\"1116\",\"type\":\"BasicTicker\"}},\"id\":\"1119\",\"type\":\"Grid\"},{\"attributes\":{},\"id\":\"1108\",\"type\":\"LinearScale\"},{\"attributes\":{},\"id\":\"1111\",\"type\":\"BasicTicker\"},{\"attributes\":{\"callback\":null,\"data\":{\"x\":[],\"y\":[]},\"selected\":{\"id\":\"1152\",\"type\":\"Selection\"},\"selection_policy\":{\"id\":\"1151\",\"type\":\"UnionRenderers\"}},\"id\":\"1133\",\"type\":\"ColumnDataSource\"},{\"attributes\":{},\"id\":\"1121\",\"type\":\"WheelZoomTool\"},{\"attributes\":{\"callback\":null},\"id\":\"1104\",\"type\":\"DataRange1d\"},{\"attributes\":{},\"id\":\"1120\",\"type\":\"PanTool\"},{\"attributes\":{},\"id\":\"1123\",\"type\":\"SaveTool\"},{\"attributes\":{},\"id\":\"1106\",\"type\":\"LinearScale\"},{\"attributes\":{\"ticker\":{\"id\":\"1111\",\"type\":\"BasicTicker\"}},\"id\":\"1114\",\"type\":\"Grid\"}],\"root_ids\":[\"1099\"]},\"title\":\"Bokeh Application\",\"version\":\"1.1.0\"}};\n",
       "  var render_items = [{\"docid\":\"7d7c42af-c8d3-4041-bd78-9a421faa097c\",\"notebook_comms_target\":\"1154\",\"roots\":{\"1099\":\"a8b5fc8f-ed23-4097-aa5d-f731fcd61c93\"}}];\n",
       "  root.Bokeh.embed.embed_items_notebook(docs_json, render_items);\n",
       "\n",
       "  }\n",
       "  if (root.Bokeh !== undefined) {\n",
       "    embed_document(root);\n",
       "  } else {\n",
       "    var attempts = 0;\n",
       "    var timer = setInterval(function(root) {\n",
       "      if (root.Bokeh !== undefined) {\n",
       "        embed_document(root);\n",
       "        clearInterval(timer);\n",
       "      }\n",
       "      attempts++;\n",
       "      if (attempts > 100) {\n",
       "        console.log(\"Bokeh: ERROR: Unable to run BokehJS code because BokehJS library is missing\");\n",
       "        clearInterval(timer);\n",
       "      }\n",
       "    }, 10, root)\n",
       "  }\n",
       "})(window);"
      ],
      "application/vnd.bokehjs_exec.v0+json": ""
     },
     "metadata": {
      "application/vnd.bokehjs_exec.v0+json": {
       "id": "1099"
      }
     },
     "output_type": "display_data"
    },
    {
     "data": {
      "text/html": [
       "<p><code>&lt;Bokeh Notebook handle for <strong>In[13]</strong>&gt;</code></p>"
      ],
      "text/plain": [
       "<bokeh.io.notebook.CommsHandle at 0x7f1b61500dd8>"
      ]
     },
     "execution_count": 13,
     "metadata": {},
     "output_type": "execute_result"
    }
   ],
   "source": [
    "from bokeh.io import push_notebook, show, output_notebook\n",
    "from bokeh.plotting import figure\n",
    "output_notebook()\n",
    "\n",
    "f = figure(title='SciPy Optimisation Progress',\n",
    "           x_axis_label='# Iteration',\n",
    "           y_axis_label='Misfit',\n",
    "           plot_width=800,\n",
    "           plot_height=300)\n",
    "plot = f.scatter([], [])\n",
    "show(f, notebook_handle=True)"
   ]
  },
  {
   "cell_type": "markdown",
   "metadata": {},
   "source": [
    "### Optimisation with SciPy\n",
    "We will use `scipy.optimize.differential_evolution` to find a best fitting model. The method is stochastic in nature (does not use gradient methods) to find the minimium, and can search large areas of candidate space, but often requires larger numbers of function evaluations than conventional gradient based techniques. The scipy solver can easily be exchanged for a method of your favor. If you just want a quick demonstration, you can change the number of maxiter in the solve function to something lower."
   ]
  },
  {
   "cell_type": "code",
   "execution_count": 14,
   "metadata": {},
   "outputs": [
    {
     "name": "stdout",
     "output_type": "stream",
     "text": [
      "Time elapsed: 236.7 s\n",
      "Best model:\n",
      " - Misfit 1.124329\n",
      "--- !pf.DCSource\n",
      "lat: 42.29\n",
      "lon: 13.35\n",
      "north_shift: 14979.312574228847\n",
      "east_shift: 1556.6646508341364\n",
      "depth: 3000.685138774966\n",
      "time: 2009-04-06 01:32:29.191294\n",
      "stf_mode: post\n",
      "magnitude: 6.200159644093804\n",
      "strike: 103.63201050142605\n",
      "dip: 59.783215252520336\n",
      "rake: -148.26831683964517\n",
      "\n"
     ]
    }
   ],
   "source": [
    "def solve():\n",
    "    t = time.time()\n",
    "\n",
    "    result = scipy.optimize.differential_evolution(\n",
    "        trace_fit,\n",
    "        args=[plot],\n",
    "        bounds=tuple(bounds.values()),\n",
    "        maxiter=15000,\n",
    "        tol=0.01,\n",
    "        callback=lambda a, convergence: push_notebook())\n",
    "\n",
    "    source = update_source(result.x)\n",
    "    source.regularize()\n",
    "\n",
    "    print(\"Time elapsed: %.1f s\" % (time.time() - t))\n",
    "    print(\"Best model:\\n - Misfit %f\" % trace_fit(result.x))\n",
    "    print(source)\n",
    "    return result, source\n",
    "\n",
    "\n",
    "# Start the optimisation\n",
    "result, best_source = solve()"
   ]
  },
  {
   "cell_type": "markdown",
   "metadata": {},
   "source": [
    "### Plot the Results\n",
    "Now we plot the synthetic waveforms produced by our the best model vs. the observed traces."
   ]
  },
  {
   "cell_type": "code",
   "execution_count": 18,
   "metadata": {},
   "outputs": [],
   "source": [
    "def plot_traces(result):\n",
    "    nstations = len(stations_list)\n",
    "    response = engine.process(source, targets)\n",
    "    syn_traces = response.pyrocko_traces()\n",
    "\n",
    "    fig, axes = plt.subplots(nstations, squeeze=True, sharex=True)\n",
    "    fig.subplots_adjust(hspace=0)\n",
    "    plt.setp([ax.get_xticklabels() for ax in axes[:-1]], visible=False)\n",
    "\n",
    "    for istation, (obs, syn, target) in enumerate(zip(traces, syn_traces, targets)):\n",
    "        ax = axes[istation]\n",
    "        tp = store.t(phase, base_source, target)\n",
    "        tp_onset = base_source.time + tp\n",
    "        tmin = tp_onset - tmin_fit\n",
    "        tmax = tp_onset + tmax_fit\n",
    "        \n",
    "        syn = process_trace(syn, tmin, tmax)\n",
    "        obs = process_trace(obs, tmin, tmax, lowpass=False, inplace=False)\n",
    "        \n",
    "        s1 = ax.plot(obs.get_xdata(), obs.ydata, color='b')\n",
    "        s2 = ax.plot(syn.get_xdata(), syn.ydata, color='r')\n",
    "        s3 = ax.plot([tp_onset, tp_onset], [tr.ydata.min(), tr.ydata.max()], 'k-', lw=2)\n",
    "\n",
    "        ax.text(-.2, 0.5, stations_list[istation].station,\n",
    "                transform=ax.transAxes)\n",
    "        ax.set_yticklabels([], visible=False)\n",
    "\n",
    "    axes[-1].set_xlabel('Time [s]')\n",
    "    plt.suptitle('Waveform fits for %s-Phase and component %s' % (phase, component))\n",
    "    plt.legend(\n",
    "        (s1[0], s2[0], s3[0]),\n",
    "        ('Data', 'Synthetic','%s Phase-onset' % phase),\n",
    "        loc='upper center',\n",
    "        bbox_to_anchor=(0.5, -2.),\n",
    "        fancybox=True, shadow=True, ncol=5)\n",
    "    \n",
    "    plt.show()"
   ]
  },
  {
   "cell_type": "code",
   "execution_count": 16,
   "metadata": {},
   "outputs": [],
   "source": [
    "def plot_snuffler(result, source):\n",
    "    engine = gf.get_engine()\n",
    "    response = engine.process(source, targets)\n",
    "    syn_traces = response.pyrocko_traces()\n",
    "    obs_traces = []\n",
    "    \n",
    "    for obs, syn, target in zip(traces, syn_traces, targets):\n",
    "        tp = store.t('P', base_source, target)\n",
    "        tmin = base_source.time + tp - tmin_fit\n",
    "        tmax = base_source.time + tp + tmax_fit\n",
    "\n",
    "        syn = process_trace(syn, tmin, tmax)\n",
    "        obs = process_trace(obs, tmin, tmax, lowpass=False, inplace=False)\n",
    "\n",
    "        obs_traces.append(obs)\n",
    "\n",
    "    trace.snuffle(obs_traces + syn_traces, stations=stations_list, events= [event])"
   ]
  },
  {
   "cell_type": "markdown",
   "metadata": {},
   "source": [
    "Next we plot the station distribution with folium (which you might need to install)"
   ]
  },
  {
   "cell_type": "code",
   "execution_count": 19,
   "metadata": {},
   "outputs": [
    {
     "data": {
      "text/html": [
       "<div style=\"width:100%;\"><div style=\"position:relative;width:100%;height:0;padding-bottom:60%;\"><iframe src=\"data:text/html;charset=utf-8;base64,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\" style=\"position:absolute;width:100%;height:100%;left:0;top:0;border:none !important;\" allowfullscreen webkitallowfullscreen mozallowfullscreen></iframe></div></div>"
      ],
      "text/plain": [
       "<folium.folium.Map at 0x7f1bacc27fd0>"
      ]
     },
     "execution_count": 19,
     "metadata": {},
     "output_type": "execute_result"
    }
   ],
   "source": [
    "def plot_stations():\n",
    "    import folium\n",
    "    fmap = folium.Map(\n",
    "        location=[best_source.lat, best_source.lon],\n",
    "        tiles='Stamen Terrain',\n",
    "        zoom_start=3)\n",
    "    folium.Marker([best_source.lat, best_source.lon],\n",
    "        popup=('2009 Aquila Earthquake'),\n",
    "        icon=folium.Icon(color='red', icon='info-sign')).add_to(fmap)\n",
    "                  \n",
    "    for s in stations_list:\n",
    "        folium.Marker([s.lat, s.lon],\n",
    "                      popup='<b>%s</b></h4>' % s.station).add_to(fmap)\n",
    "    fmap.add_child(folium.LatLngPopup())\n",
    "    return fmap\n",
    "    \n",
    "plot_stations()"
   ]
  },
  {
   "cell_type": "code",
   "execution_count": 22,
   "metadata": {},
   "outputs": [
    {
     "data": {
      "image/png": "[encoded data removed]",
      "text/plain": [
       "<Figure size 432x288 with 57 Axes>"
      ]
     },
     "metadata": {
      "needs_background": "light"
     },
     "output_type": "display_data"
    }
   ],
   "source": [
    "plot_traces(result)"
   ]
  },
  {
   "cell_type": "markdown",
   "metadata": {},
   "source": [
    "Alternatively we can plot using snuffler, which will open in a seperate window."
   ]
  },
  {
   "cell_type": "code",
   "execution_count": null,
   "metadata": {},
   "outputs": [],
   "source": [
    "plot_snuffler(result, best_source)"
   ]
  },
  {
   "cell_type": "code",
   "execution_count": null,
   "metadata": {},
   "outputs": [],
   "source": []
  }
 ],
 "metadata": {
  "kernelspec": {
   "display_name": "Python 3",
   "language": "python",
   "name": "python3"
  },
  "language_info": {
   "codemirror_mode": {
    "name": "ipython",
    "version": 3
   },
   "file_extension": ".py",
   "mimetype": "text/x-python",
   "name": "python",
   "nbconvert_exporter": "python",
   "pygments_lexer": "ipython3",
   "version": "3.7.3rc1"
  }
 },
 "nbformat": 4,
 "nbformat_minor": 2
}
