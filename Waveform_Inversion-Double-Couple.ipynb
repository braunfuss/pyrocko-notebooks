{
 "cells": [
  {
   "cell_type": "markdown",
   "metadata": {},
   "source": [
    "# Pyrocko Notebook\n",
    "## Double Couple Waveform Inversion (The 2009 Aquila Earthquake)\n",
    "\n",
    "In this Jupyter-notebook we look at teleseismic waveforms of the 2009 Aquila Earthquake and setup `pyrocko.gf` forward modelling to invert for the double couple mechanism of the event. We will use `pyrocko` to handle the seismic data and execute the forward modelling based on pre-calculated Green's function stores, `scipy` delivers the optimisation algorithms.\n",
    "Besides this Notebook you will also need to download the utils_nb.py file from this repository.\n",
    "\n",
    "_Authors:_\n",
    "Andreas Steinberg, Marius Isken\n",
    "\n",
    "-edited August 2020 "
   ]
  },
  {
   "cell_type": "code",
   "execution_count": 1,
   "metadata": {},
   "outputs": [],
   "source": [
    "%matplotlib inline\n",
    "import time\n",
    "import os\n",
    "import scipy\n",
    "import numpy as num\n",
    "import matplotlib.pyplot as plt\n",
    "import chart_studio.plotly as py\n",
    "from collections import OrderedDict\n",
    "\n",
    "import utils_nb\n",
    "\n",
    "from pyrocko import gf, trace\n",
    "from pyrocko import moment_tensor as mtm\n",
    "from pyrocko.gf import ws, LocalEngine, Target, DCSource\n",
    "from pyrocko import util, pile, model, config, trace, io, pile, catalog\n",
    "\n",
    "km = 1000."
   ]
  },
  {
   "cell_type": "markdown",
   "metadata": {},
   "source": [
    "### Optimisation Parameters\n",
    "Setup of the optimisation parameters, as well as boundaries for the source parameters."
   ]
  },
  {
   "cell_type": "code",
   "execution_count": 2,
   "metadata": {},
   "outputs": [],
   "source": [
    "component = 'Z'\n",
    "f_low = 0.1  # Hz, for a lowpass filter\n",
    "taper = trace.CosFader(xfade=2.0)  # Cosine taper, 2s fade\n",
    "\n",
    "phase = 'P' # Phase to fit\n",
    "tmin_fit = 15. # [s] to fit before synthetic phase onset (from GFStore)\n",
    "tmax_fit = 25. # [s] ... after\n",
    "\n",
    "bounds = OrderedDict([\n",
    "    ('north_shift', (-20.*km, 20.*km)),\n",
    "    ('east_shift', (-20.*km, 20.*km)),\n",
    "    ('depth', (0.5*km, 14.*km)),\n",
    "    ('magnitude', (6.2, 6.4)),\n",
    "    ('strike', (120., 140.)),\n",
    "    ('dip', (40., 60.)),\n",
    "    ('rake', (-100, -50.)),\n",
    "    ('timeshift', (-6.5, 2.)),\n",
    "    ])"
   ]
  },
  {
   "cell_type": "markdown",
   "metadata": {},
   "source": [
    "### Load the Waveforms\n",
    "We download the instrument-corrected seismic waveforms and use a `pyrocko.pile` to manage the data."
   ]
  },
  {
   "cell_type": "code",
   "execution_count": 3,
   "metadata": {
    "scrolled": true
   },
   "outputs": [
    {
     "name": "stderr",
     "output_type": "stream",
     "text": [
      "selecting files... done. 58 files selected.\n",
      "Looking at files [----------------------------------------] 100% Time:  0:00:00\n",
      "Scanning files [------------------------------------------] 100% Time:  0:00:00\n",
      "Cannot read file '/home/asteinbe/src/pyrocko-notebooks-vanilla/data/aquila_realdata/stations_short.txt': No SEED data detected (file: /home/asteinbe/src/pyrocko-notebooks-vanilla/data/aquila_realdata/stations_short.txt)\n",
      "The following file caused problems and will be ignored:\n",
      "/home/asteinbe/src/pyrocko-notebooks-vanilla/data/aquila_realdata/stations_short.txt\n"
     ]
    }
   ],
   "source": [
    "# Download the instrument-corrected 2009 Aquila Earthquake data\n",
    "data_path = utils_nb.download_dir('aquila_realdata/')\n",
    "data = pile.make_pile([data_path])\n",
    "traces = data.all()  # retrieves the raw waveform data as a 2D `numpy.array`.\n",
    "\n",
    "for tr in traces:\n",
    "    tr.lowpass(4, f_low)"
   ]
  },
  {
   "cell_type": "markdown",
   "metadata": {},
   "source": [
    "### Initialize Forward Modelling Engine (Seismosizer)\n",
    "We download the precalculated Green's function database (`Store`) *global_2s_25km* from http://kinherd.org"
   ]
  },
  {
   "cell_type": "code",
   "execution_count": 4,
   "metadata": {},
   "outputs": [],
   "source": [
    "store_id = 'global_2s_25km'\n",
    "if not os.path.exists(store_id):\n",
    "    ws.download_gf_store(site='kinherd', store_id=store_id)"
   ]
  },
  {
   "cell_type": "markdown",
   "metadata": {},
   "source": [
    "Now we fire up the `engine` to forward model synthetic seismograms on our _global_2s_25km_ GF database."
   ]
  },
  {
   "cell_type": "code",
   "execution_count": 5,
   "metadata": {},
   "outputs": [],
   "source": [
    "engine = gf.LocalEngine(store_superdirs=['.']) # The Path to where the gf_store(s)\n",
    "store = engine.get_store(store_id)  # Load the store."
   ]
  },
  {
   "cell_type": "markdown",
   "metadata": {},
   "source": [
    "### Get GlobalCMT Start Model\n",
    "We use the GlobalCMT catalog to search for the 2009 Aquila Earthquake and initalize a source for the starting model."
   ]
  },
  {
   "cell_type": "code",
   "execution_count": 6,
   "metadata": {},
   "outputs": [],
   "source": [
    "tmin = util.str_to_time('2009-04-06 00:00:00')  # beginning time of query\n",
    "tmax = util.str_to_time('2009-04-06 05:59:59')  # ending time of query\n",
    "event = catalog.GlobalCMT().get_events(\n",
    "    time_range=(tmin, tmax),\n",
    "    magmin=6.)[0]\n",
    "\n",
    "base_source = gf.MTSource.from_pyrocko_event(event)"
   ]
  },
  {
   "cell_type": "markdown",
   "metadata": {},
   "source": [
    "### Station and _Target_ Setup\n",
    "We use the term _Target_ for a single component of a single station."
   ]
  },
  {
   "cell_type": "code",
   "execution_count": 7,
   "metadata": {},
   "outputs": [],
   "source": [
    "stations_list = model.load_stations('data/aquila_realdata/stations_short.txt')\n",
    "for s in stations_list:\n",
    "    s.set_channels_by_name(*component.split())"
   ]
  },
  {
   "cell_type": "markdown",
   "metadata": {},
   "source": [
    "Next we define the `Target` - where to calculate the synthetic seismogram."
   ]
  },
  {
   "cell_type": "code",
   "execution_count": 8,
   "metadata": {},
   "outputs": [],
   "source": [
    "targets=[]\n",
    "for s in stations_list:\n",
    "    target = Target(\n",
    "            lat=s.lat,\n",
    "            lon=s.lon,\n",
    "            store_id=store_id,   # The gf-store to be used for this target,\n",
    "            interpolation='multilinear',  # Interpolation method between GFStore nodes\n",
    "            quantity='displacement',\n",
    "            codes=s.nsl() + ('BH' + component,))\n",
    "    targets.append(target)"
   ]
  },
  {
   "cell_type": "markdown",
   "metadata": {},
   "source": [
    "### Objective Function\n",
    "Now the objective function that will be called by `scipy.optimize`:"
   ]
  },
  {
   "cell_type": "code",
   "execution_count": 9,
   "metadata": {},
   "outputs": [],
   "source": [
    "source = gf.DCSource(\n",
    "    lat=event.lat,\n",
    "    lon=event.lon)\n",
    "\n",
    "def update_source(params):\n",
    "    s = source\n",
    "    s.north_shift = float(params[0])\n",
    "    s.east_shift = float(params[1])\n",
    "    s.depth = float(params[2])\n",
    "    s.magnitude = float(params[3])\n",
    "    s.strike = float(params[4])\n",
    "    s.dip = float(params[5])\n",
    "    s.rake = float(params[6])\n",
    "    s.time = float(event.time - params[7])\n",
    "    return source\n",
    "\n",
    "def process_trace(trace, tmin, tmax, lowpass=False, inplace=True):\n",
    "    if lowpass:\n",
    "        trace.lowpass(4, f_low)\n",
    "    trace = trace.chop(tmin, tmax, inplace=inplace)\n",
    "    trace.taper(taper)\n",
    "    return trace\n",
    "\n",
    "iiter = 0\n",
    "\n",
    "def trace_fit(params, line=None):\n",
    "    global iiter\n",
    "    update_source(params)\n",
    "\n",
    "    # Forward model synthetic seismograms\n",
    "    response = engine.process(source, targets)\n",
    "    syn_traces = response.pyrocko_traces()\n",
    "\n",
    "    misfits = 0.\n",
    "    norms = 0.\n",
    "\n",
    "    for obs, syn, target in zip(traces, syn_traces, targets):\n",
    "        syn_phs = store.t(phase, base_source, target)\n",
    "        \n",
    "        tmin = base_source.time + syn_phs - tmin_fit  # start before theor. arrival\n",
    "        tmax = base_source.time + syn_phs + tmax_fit  # end after theor. arrival\n",
    "        \n",
    "        syn = process_trace(syn, tmin, tmax)\n",
    "        obs = process_trace(obs, tmin, tmax, lowpass=False, inplace=True)\n",
    "\n",
    "        misfits += num.sqrt(num.sum((obs.ydata - syn.ydata)**2))\n",
    "        norms += num.sqrt(num.sum(obs.ydata**2))\n",
    "    \n",
    "    misfit = num.sqrt(misfits**2 / norms**2)\n",
    "    \n",
    "    iiter += 1\n",
    "\n",
    "    if line:\n",
    "        data = {\n",
    "            'y': [misfit],\n",
    "            'x': [iiter],\n",
    "        }\n",
    "        line.data_source.stream(data)\n",
    "\n",
    "    return misfit"
   ]
  },
  {
   "cell_type": "markdown",
   "metadata": {},
   "source": [
    "#### Running the optimization and plotting of the Convergence\n",
    "For plotting we use bokeh (which you might need to install: `pip3 install bokeh`)  \n",
    "Jupyter Lab also requires the Bokeh extension: `jupyter labextension install jupyterlab_bokeh`  \n",
    "More info at https://bokeh.pydata.org/en/latest/docs/user_guide/notebook.html"
   ]
  },
  {
   "cell_type": "code",
   "execution_count": 10,
   "metadata": {},
   "outputs": [
    {
     "data": {
      "text/html": [
       "\n",
       "    <div class=\"bk-root\">\n",
       "        <a href=\"https://bokeh.org\" target=\"_blank\" class=\"bk-logo bk-logo-small bk-logo-notebook\"></a>\n",
       "        <span id=\"1001\">Loading BokehJS ...</span>\n",
       "    </div>"
      ]
     },
     "metadata": {},
     "output_type": "display_data"
    },
    {
     "data": {
      "application/javascript": [
       "\n",
       "(function(root) {\n",
       "  function now() {\n",
       "    return new Date();\n",
       "  }\n",
       "\n",
       "  var force = true;\n",
       "\n",
       "  if (typeof root._bokeh_onload_callbacks === \"undefined\" || force === true) {\n",
       "    root._bokeh_onload_callbacks = [];\n",
       "    root._bokeh_is_loading = undefined;\n",
       "  }\n",
       "\n",
       "  var JS_MIME_TYPE = 'application/javascript';\n",
       "  var HTML_MIME_TYPE = 'text/html';\n",
       "  var EXEC_MIME_TYPE = 'application/vnd.bokehjs_exec.v0+json';\n",
       "  var CLASS_NAME = 'output_bokeh rendered_html';\n",
       "\n",
       "  /**\n",
       "   * Render data to the DOM node\n",
       "   */\n",
       "  function render(props, node) {\n",
       "    var script = document.createElement(\"script\");\n",
       "    node.appendChild(script);\n",
       "  }\n",
       "\n",
       "  /**\n",
       "   * Handle when an output is cleared or removed\n",
       "   */\n",
       "  function handleClearOutput(event, handle) {\n",
       "    var cell = handle.cell;\n",
       "\n",
       "    var id = cell.output_area._bokeh_element_id;\n",
       "    var server_id = cell.output_area._bokeh_server_id;\n",
       "    // Clean up Bokeh references\n",
       "    if (id != null && id in Bokeh.index) {\n",
       "      Bokeh.index[id].model.document.clear();\n",
       "      delete Bokeh.index[id];\n",
       "    }\n",
       "\n",
       "    if (server_id !== undefined) {\n",
       "      // Clean up Bokeh references\n",
       "      var cmd = \"from bokeh.io.state import curstate; print(curstate().uuid_to_server['\" + server_id + \"'].get_sessions()[0].document.roots[0]._id)\";\n",
       "      cell.notebook.kernel.execute(cmd, {\n",
       "        iopub: {\n",
       "          output: function(msg) {\n",
       "            var id = msg.content.text.trim();\n",
       "            if (id in Bokeh.index) {\n",
       "              Bokeh.index[id].model.document.clear();\n",
       "              delete Bokeh.index[id];\n",
       "            }\n",
       "          }\n",
       "        }\n",
       "      });\n",
       "      // Destroy server and session\n",
       "      var cmd = \"import bokeh.io.notebook as ion; ion.destroy_server('\" + server_id + \"')\";\n",
       "      cell.notebook.kernel.execute(cmd);\n",
       "    }\n",
       "  }\n",
       "\n",
       "  /**\n",
       "   * Handle when a new output is added\n",
       "   */\n",
       "  function handleAddOutput(event, handle) {\n",
       "    var output_area = handle.output_area;\n",
       "    var output = handle.output;\n",
       "\n",
       "    // limit handleAddOutput to display_data with EXEC_MIME_TYPE content only\n",
       "    if ((output.output_type != \"display_data\") || (!output.data.hasOwnProperty(EXEC_MIME_TYPE))) {\n",
       "      return\n",
       "    }\n",
       "\n",
       "    var toinsert = output_area.element.find(\".\" + CLASS_NAME.split(' ')[0]);\n",
       "\n",
       "    if (output.metadata[EXEC_MIME_TYPE][\"id\"] !== undefined) {\n",
       "      toinsert[toinsert.length - 1].firstChild.textContent = output.data[JS_MIME_TYPE];\n",
       "      // store reference to embed id on output_area\n",
       "      output_area._bokeh_element_id = output.metadata[EXEC_MIME_TYPE][\"id\"];\n",
       "    }\n",
       "    if (output.metadata[EXEC_MIME_TYPE][\"server_id\"] !== undefined) {\n",
       "      var bk_div = document.createElement(\"div\");\n",
       "      bk_div.innerHTML = output.data[HTML_MIME_TYPE];\n",
       "      var script_attrs = bk_div.children[0].attributes;\n",
       "      for (var i = 0; i < script_attrs.length; i++) {\n",
       "        toinsert[toinsert.length - 1].firstChild.setAttribute(script_attrs[i].name, script_attrs[i].value);\n",
       "      }\n",
       "      // store reference to server id on output_area\n",
       "      output_area._bokeh_server_id = output.metadata[EXEC_MIME_TYPE][\"server_id\"];\n",
       "    }\n",
       "  }\n",
       "\n",
       "  function register_renderer(events, OutputArea) {\n",
       "\n",
       "    function append_mime(data, metadata, element) {\n",
       "      // create a DOM node to render to\n",
       "      var toinsert = this.create_output_subarea(\n",
       "        metadata,\n",
       "        CLASS_NAME,\n",
       "        EXEC_MIME_TYPE\n",
       "      );\n",
       "      this.keyboard_manager.register_events(toinsert);\n",
       "      // Render to node\n",
       "      var props = {data: data, metadata: metadata[EXEC_MIME_TYPE]};\n",
       "      render(props, toinsert[toinsert.length - 1]);\n",
       "      element.append(toinsert);\n",
       "      return toinsert\n",
       "    }\n",
       "\n",
       "    /* Handle when an output is cleared or removed */\n",
       "    events.on('clear_output.CodeCell', handleClearOutput);\n",
       "    events.on('delete.Cell', handleClearOutput);\n",
       "\n",
       "    /* Handle when a new output is added */\n",
       "    events.on('output_added.OutputArea', handleAddOutput);\n",
       "\n",
       "    /**\n",
       "     * Register the mime type and append_mime function with output_area\n",
       "     */\n",
       "    OutputArea.prototype.register_mime_type(EXEC_MIME_TYPE, append_mime, {\n",
       "      /* Is output safe? */\n",
       "      safe: true,\n",
       "      /* Index of renderer in `output_area.display_order` */\n",
       "      index: 0\n",
       "    });\n",
       "  }\n",
       "\n",
       "  // register the mime type if in Jupyter Notebook environment and previously unregistered\n",
       "  if (root.Jupyter !== undefined) {\n",
       "    var events = require('base/js/events');\n",
       "    var OutputArea = require('notebook/js/outputarea').OutputArea;\n",
       "\n",
       "    if (OutputArea.prototype.mime_types().indexOf(EXEC_MIME_TYPE) == -1) {\n",
       "      register_renderer(events, OutputArea);\n",
       "    }\n",
       "  }\n",
       "\n",
       "  \n",
       "  if (typeof (root._bokeh_timeout) === \"undefined\" || force === true) {\n",
       "    root._bokeh_timeout = Date.now() + 5000;\n",
       "    root._bokeh_failed_load = false;\n",
       "  }\n",
       "\n",
       "  var NB_LOAD_WARNING = {'data': {'text/html':\n",
       "     \"<div style='background-color: #fdd'>\\n\"+\n",
       "     \"<p>\\n\"+\n",
       "     \"BokehJS does not appear to have successfully loaded. If loading BokehJS from CDN, this \\n\"+\n",
       "     \"may be due to a slow or bad network connection. Possible fixes:\\n\"+\n",
       "     \"</p>\\n\"+\n",
       "     \"<ul>\\n\"+\n",
       "     \"<li>re-rerun `output_notebook()` to attempt to load from CDN again, or</li>\\n\"+\n",
       "     \"<li>use INLINE resources instead, as so:</li>\\n\"+\n",
       "     \"</ul>\\n\"+\n",
       "     \"<code>\\n\"+\n",
       "     \"from bokeh.resources import INLINE\\n\"+\n",
       "     \"output_notebook(resources=INLINE)\\n\"+\n",
       "     \"</code>\\n\"+\n",
       "     \"</div>\"}};\n",
       "\n",
       "  function display_loaded() {\n",
       "    var el = document.getElementById(\"1001\");\n",
       "    if (el != null) {\n",
       "      el.textContent = \"BokehJS is loading...\";\n",
       "    }\n",
       "    if (root.Bokeh !== undefined) {\n",
       "      if (el != null) {\n",
       "        el.textContent = \"BokehJS \" + root.Bokeh.version + \" successfully loaded.\";\n",
       "      }\n",
       "    } else if (Date.now() < root._bokeh_timeout) {\n",
       "      setTimeout(display_loaded, 100)\n",
       "    }\n",
       "  }\n",
       "\n",
       "\n",
       "  function run_callbacks() {\n",
       "    try {\n",
       "      root._bokeh_onload_callbacks.forEach(function(callback) {\n",
       "        if (callback != null)\n",
       "          callback();\n",
       "      });\n",
       "    } finally {\n",
       "      delete root._bokeh_onload_callbacks\n",
       "    }\n",
       "    console.debug(\"Bokeh: all callbacks have finished\");\n",
       "  }\n",
       "\n",
       "  function load_libs(css_urls, js_urls, callback) {\n",
       "    if (css_urls == null) css_urls = [];\n",
       "    if (js_urls == null) js_urls = [];\n",
       "\n",
       "    root._bokeh_onload_callbacks.push(callback);\n",
       "    if (root._bokeh_is_loading > 0) {\n",
       "      console.debug(\"Bokeh: BokehJS is being loaded, scheduling callback at\", now());\n",
       "      return null;\n",
       "    }\n",
       "    if (js_urls == null || js_urls.length === 0) {\n",
       "      run_callbacks();\n",
       "      return null;\n",
       "    }\n",
       "    console.debug(\"Bokeh: BokehJS not loaded, scheduling load and callback at\", now());\n",
       "    root._bokeh_is_loading = css_urls.length + js_urls.length;\n",
       "\n",
       "    function on_load() {\n",
       "      root._bokeh_is_loading--;\n",
       "      if (root._bokeh_is_loading === 0) {\n",
       "        console.debug(\"Bokeh: all BokehJS libraries/stylesheets loaded\");\n",
       "        run_callbacks()\n",
       "      }\n",
       "    }\n",
       "\n",
       "    function on_error() {\n",
       "      console.error(\"failed to load \" + url);\n",
       "    }\n",
       "\n",
       "    for (var i = 0; i < css_urls.length; i++) {\n",
       "      var url = css_urls[i];\n",
       "      const element = document.createElement(\"link\");\n",
       "      element.onload = on_load;\n",
       "      element.onerror = on_error;\n",
       "      element.rel = \"stylesheet\";\n",
       "      element.type = \"text/css\";\n",
       "      element.href = url;\n",
       "      console.debug(\"Bokeh: injecting link tag for BokehJS stylesheet: \", url);\n",
       "      document.body.appendChild(element);\n",
       "    }\n",
       "\n",
       "    for (var i = 0; i < js_urls.length; i++) {\n",
       "      var url = js_urls[i];\n",
       "      var element = document.createElement('script');\n",
       "      element.onload = on_load;\n",
       "      element.onerror = on_error;\n",
       "      element.async = false;\n",
       "      element.src = url;\n",
       "      console.debug(\"Bokeh: injecting script tag for BokehJS library: \", url);\n",
       "      document.head.appendChild(element);\n",
       "    }\n",
       "  };var element = document.getElementById(\"1001\");\n",
       "  if (element == null) {\n",
       "    console.error(\"Bokeh: ERROR: autoload.js configured with elementid '1001' but no matching script tag was found. \")\n",
       "    return false;\n",
       "  }\n",
       "\n",
       "  function inject_raw_css(css) {\n",
       "    const element = document.createElement(\"style\");\n",
       "    element.appendChild(document.createTextNode(css));\n",
       "    document.body.appendChild(element);\n",
       "  }\n",
       "\n",
       "  \n",
       "  var js_urls = [\"https://cdn.pydata.org/bokeh/release/bokeh-1.4.0.min.js\", \"https://cdn.pydata.org/bokeh/release/bokeh-widgets-1.4.0.min.js\", \"https://cdn.pydata.org/bokeh/release/bokeh-tables-1.4.0.min.js\", \"https://cdn.pydata.org/bokeh/release/bokeh-gl-1.4.0.min.js\"];\n",
       "  var css_urls = [];\n",
       "  \n",
       "\n",
       "  var inline_js = [\n",
       "    function(Bokeh) {\n",
       "      Bokeh.set_log_level(\"info\");\n",
       "    },\n",
       "    function(Bokeh) {\n",
       "    \n",
       "    \n",
       "    }\n",
       "  ];\n",
       "\n",
       "  function run_inline_js() {\n",
       "    \n",
       "    if (root.Bokeh !== undefined || force === true) {\n",
       "      \n",
       "    for (var i = 0; i < inline_js.length; i++) {\n",
       "      inline_js[i].call(root, root.Bokeh);\n",
       "    }\n",
       "    if (force === true) {\n",
       "        display_loaded();\n",
       "      }} else if (Date.now() < root._bokeh_timeout) {\n",
       "      setTimeout(run_inline_js, 100);\n",
       "    } else if (!root._bokeh_failed_load) {\n",
       "      console.log(\"Bokeh: BokehJS failed to load within specified timeout.\");\n",
       "      root._bokeh_failed_load = true;\n",
       "    } else if (force !== true) {\n",
       "      var cell = $(document.getElementById(\"1001\")).parents('.cell').data().cell;\n",
       "      cell.output_area.append_execute_result(NB_LOAD_WARNING)\n",
       "    }\n",
       "\n",
       "  }\n",
       "\n",
       "  if (root._bokeh_is_loading === 0) {\n",
       "    console.debug(\"Bokeh: BokehJS loaded, going straight to plotting\");\n",
       "    run_inline_js();\n",
       "  } else {\n",
       "    load_libs(css_urls, js_urls, function() {\n",
       "      console.debug(\"Bokeh: BokehJS plotting callback run at\", now());\n",
       "      run_inline_js();\n",
       "    });\n",
       "  }\n",
       "}(window));"
      ],
      "application/vnd.bokehjs_load.v0+json": "\n(function(root) {\n  function now() {\n    return new Date();\n  }\n\n  var force = true;\n\n  if (typeof root._bokeh_onload_callbacks === \"undefined\" || force === true) {\n    root._bokeh_onload_callbacks = [];\n    root._bokeh_is_loading = undefined;\n  }\n\n  \n\n  \n  if (typeof (root._bokeh_timeout) === \"undefined\" || force === true) {\n    root._bokeh_timeout = Date.now() + 5000;\n    root._bokeh_failed_load = false;\n  }\n\n  var NB_LOAD_WARNING = {'data': {'text/html':\n     \"<div style='background-color: #fdd'>\\n\"+\n     \"<p>\\n\"+\n     \"BokehJS does not appear to have successfully loaded. If loading BokehJS from CDN, this \\n\"+\n     \"may be due to a slow or bad network connection. Possible fixes:\\n\"+\n     \"</p>\\n\"+\n     \"<ul>\\n\"+\n     \"<li>re-rerun `output_notebook()` to attempt to load from CDN again, or</li>\\n\"+\n     \"<li>use INLINE resources instead, as so:</li>\\n\"+\n     \"</ul>\\n\"+\n     \"<code>\\n\"+\n     \"from bokeh.resources import INLINE\\n\"+\n     \"output_notebook(resources=INLINE)\\n\"+\n     \"</code>\\n\"+\n     \"</div>\"}};\n\n  function display_loaded() {\n    var el = document.getElementById(\"1001\");\n    if (el != null) {\n      el.textContent = \"BokehJS is loading...\";\n    }\n    if (root.Bokeh !== undefined) {\n      if (el != null) {\n        el.textContent = \"BokehJS \" + root.Bokeh.version + \" successfully loaded.\";\n      }\n    } else if (Date.now() < root._bokeh_timeout) {\n      setTimeout(display_loaded, 100)\n    }\n  }\n\n\n  function run_callbacks() {\n    try {\n      root._bokeh_onload_callbacks.forEach(function(callback) {\n        if (callback != null)\n          callback();\n      });\n    } finally {\n      delete root._bokeh_onload_callbacks\n    }\n    console.debug(\"Bokeh: all callbacks have finished\");\n  }\n\n  function load_libs(css_urls, js_urls, callback) {\n    if (css_urls == null) css_urls = [];\n    if (js_urls == null) js_urls = [];\n\n    root._bokeh_onload_callbacks.push(callback);\n    if (root._bokeh_is_loading > 0) {\n      console.debug(\"Bokeh: BokehJS is being loaded, scheduling callback at\", now());\n      return null;\n    }\n    if (js_urls == null || js_urls.length === 0) {\n      run_callbacks();\n      return null;\n    }\n    console.debug(\"Bokeh: BokehJS not loaded, scheduling load and callback at\", now());\n    root._bokeh_is_loading = css_urls.length + js_urls.length;\n\n    function on_load() {\n      root._bokeh_is_loading--;\n      if (root._bokeh_is_loading === 0) {\n        console.debug(\"Bokeh: all BokehJS libraries/stylesheets loaded\");\n        run_callbacks()\n      }\n    }\n\n    function on_error() {\n      console.error(\"failed to load \" + url);\n    }\n\n    for (var i = 0; i < css_urls.length; i++) {\n      var url = css_urls[i];\n      const element = document.createElement(\"link\");\n      element.onload = on_load;\n      element.onerror = on_error;\n      element.rel = \"stylesheet\";\n      element.type = \"text/css\";\n      element.href = url;\n      console.debug(\"Bokeh: injecting link tag for BokehJS stylesheet: \", url);\n      document.body.appendChild(element);\n    }\n\n    for (var i = 0; i < js_urls.length; i++) {\n      var url = js_urls[i];\n      var element = document.createElement('script');\n      element.onload = on_load;\n      element.onerror = on_error;\n      element.async = false;\n      element.src = url;\n      console.debug(\"Bokeh: injecting script tag for BokehJS library: \", url);\n      document.head.appendChild(element);\n    }\n  };var element = document.getElementById(\"1001\");\n  if (element == null) {\n    console.error(\"Bokeh: ERROR: autoload.js configured with elementid '1001' but no matching script tag was found. \")\n    return false;\n  }\n\n  function inject_raw_css(css) {\n    const element = document.createElement(\"style\");\n    element.appendChild(document.createTextNode(css));\n    document.body.appendChild(element);\n  }\n\n  \n  var js_urls = [\"https://cdn.pydata.org/bokeh/release/bokeh-1.4.0.min.js\", \"https://cdn.pydata.org/bokeh/release/bokeh-widgets-1.4.0.min.js\", \"https://cdn.pydata.org/bokeh/release/bokeh-tables-1.4.0.min.js\", \"https://cdn.pydata.org/bokeh/release/bokeh-gl-1.4.0.min.js\"];\n  var css_urls = [];\n  \n\n  var inline_js = [\n    function(Bokeh) {\n      Bokeh.set_log_level(\"info\");\n    },\n    function(Bokeh) {\n    \n    \n    }\n  ];\n\n  function run_inline_js() {\n    \n    if (root.Bokeh !== undefined || force === true) {\n      \n    for (var i = 0; i < inline_js.length; i++) {\n      inline_js[i].call(root, root.Bokeh);\n    }\n    if (force === true) {\n        display_loaded();\n      }} else if (Date.now() < root._bokeh_timeout) {\n      setTimeout(run_inline_js, 100);\n    } else if (!root._bokeh_failed_load) {\n      console.log(\"Bokeh: BokehJS failed to load within specified timeout.\");\n      root._bokeh_failed_load = true;\n    } else if (force !== true) {\n      var cell = $(document.getElementById(\"1001\")).parents('.cell').data().cell;\n      cell.output_area.append_execute_result(NB_LOAD_WARNING)\n    }\n\n  }\n\n  if (root._bokeh_is_loading === 0) {\n    console.debug(\"Bokeh: BokehJS loaded, going straight to plotting\");\n    run_inline_js();\n  } else {\n    load_libs(css_urls, js_urls, function() {\n      console.debug(\"Bokeh: BokehJS plotting callback run at\", now());\n      run_inline_js();\n    });\n  }\n}(window));"
     },
     "metadata": {},
     "output_type": "display_data"
    },
    {
     "data": {
      "text/html": [
       "\n",
       "\n",
       "\n",
       "\n",
       "\n",
       "\n",
       "  <div class=\"bk-root\" id=\"b0f760e3-7e26-4182-b7f5-e73913f84ae7\" data-root-id=\"1002\"></div>\n"
      ]
     },
     "metadata": {},
     "output_type": "display_data"
    },
    {
     "data": {
      "application/javascript": [
       "(function(root) {\n",
       "  function embed_document(root) {\n",
       "    \n",
       "  var docs_json = {\"87f47ca5-9dab-48d5-9c6a-cec201e5a1ba\":{\"roots\":{\"references\":[{\"attributes\":{\"below\":[{\"id\":\"1013\",\"type\":\"LinearAxis\"}],\"center\":[{\"id\":\"1017\",\"type\":\"Grid\"},{\"id\":\"1022\",\"type\":\"Grid\"}],\"left\":[{\"id\":\"1018\",\"type\":\"LinearAxis\"}],\"plot_height\":300,\"plot_width\":800,\"renderers\":[{\"id\":\"1039\",\"type\":\"GlyphRenderer\"}],\"title\":{\"id\":\"1003\",\"type\":\"Title\"},\"toolbar\":{\"id\":\"1029\",\"type\":\"Toolbar\"},\"x_range\":{\"id\":\"1005\",\"type\":\"DataRange1d\"},\"x_scale\":{\"id\":\"1009\",\"type\":\"LinearScale\"},\"y_range\":{\"id\":\"1007\",\"type\":\"DataRange1d\"},\"y_scale\":{\"id\":\"1011\",\"type\":\"LinearScale\"}},\"id\":\"1002\",\"subtype\":\"Figure\",\"type\":\"Plot\"},{\"attributes\":{\"ticker\":{\"id\":\"1014\",\"type\":\"BasicTicker\"}},\"id\":\"1017\",\"type\":\"Grid\"},{\"attributes\":{},\"id\":\"1045\",\"type\":\"BasicTickFormatter\"},{\"attributes\":{\"axis_label\":\"Misfit\",\"formatter\":{\"id\":\"1043\",\"type\":\"BasicTickFormatter\"},\"ticker\":{\"id\":\"1019\",\"type\":\"BasicTicker\"}},\"id\":\"1018\",\"type\":\"LinearAxis\"},{\"attributes\":{},\"id\":\"1046\",\"type\":\"Selection\"},{\"attributes\":{},\"id\":\"1019\",\"type\":\"BasicTicker\"},{\"attributes\":{},\"id\":\"1047\",\"type\":\"UnionRenderers\"},{\"attributes\":{\"fill_alpha\":{\"value\":0.1},\"fill_color\":{\"value\":\"#1f77b4\"},\"line_alpha\":{\"value\":0.1},\"line_color\":{\"value\":\"#1f77b4\"},\"x\":{\"field\":\"x\"},\"y\":{\"field\":\"y\"}},\"id\":\"1038\",\"type\":\"Scatter\"},{\"attributes\":{\"dimension\":1,\"ticker\":{\"id\":\"1019\",\"type\":\"BasicTicker\"}},\"id\":\"1022\",\"type\":\"Grid\"},{\"attributes\":{\"bottom_units\":\"screen\",\"fill_alpha\":{\"value\":0.5},\"fill_color\":{\"value\":\"lightgrey\"},\"left_units\":\"screen\",\"level\":\"overlay\",\"line_alpha\":{\"value\":1.0},\"line_color\":{\"value\":\"black\"},\"line_dash\":[4,4],\"line_width\":{\"value\":2},\"render_mode\":\"css\",\"right_units\":\"screen\",\"top_units\":\"screen\"},\"id\":\"1048\",\"type\":\"BoxAnnotation\"},{\"attributes\":{\"active_drag\":\"auto\",\"active_inspect\":\"auto\",\"active_multi\":null,\"active_scroll\":\"auto\",\"active_tap\":\"auto\",\"tools\":[{\"id\":\"1023\",\"type\":\"PanTool\"},{\"id\":\"1024\",\"type\":\"WheelZoomTool\"},{\"id\":\"1025\",\"type\":\"BoxZoomTool\"},{\"id\":\"1026\",\"type\":\"SaveTool\"},{\"id\":\"1027\",\"type\":\"ResetTool\"},{\"id\":\"1028\",\"type\":\"HelpTool\"}]},\"id\":\"1029\",\"type\":\"Toolbar\"},{\"attributes\":{},\"id\":\"1043\",\"type\":\"BasicTickFormatter\"},{\"attributes\":{},\"id\":\"1023\",\"type\":\"PanTool\"},{\"attributes\":{},\"id\":\"1024\",\"type\":\"WheelZoomTool\"},{\"attributes\":{\"overlay\":{\"id\":\"1048\",\"type\":\"BoxAnnotation\"}},\"id\":\"1025\",\"type\":\"BoxZoomTool\"},{\"attributes\":{},\"id\":\"1026\",\"type\":\"SaveTool\"},{\"attributes\":{},\"id\":\"1009\",\"type\":\"LinearScale\"},{\"attributes\":{},\"id\":\"1027\",\"type\":\"ResetTool\"},{\"attributes\":{\"text\":\"SciPy Optimisation Progress\"},\"id\":\"1003\",\"type\":\"Title\"},{\"attributes\":{},\"id\":\"1028\",\"type\":\"HelpTool\"},{\"attributes\":{\"data_source\":{\"id\":\"1036\",\"type\":\"ColumnDataSource\"},\"glyph\":{\"id\":\"1037\",\"type\":\"Scatter\"},\"hover_glyph\":null,\"muted_glyph\":null,\"nonselection_glyph\":{\"id\":\"1038\",\"type\":\"Scatter\"},\"selection_glyph\":null,\"view\":{\"id\":\"1040\",\"type\":\"CDSView\"}},\"id\":\"1039\",\"type\":\"GlyphRenderer\"},{\"attributes\":{\"callback\":null},\"id\":\"1005\",\"type\":\"DataRange1d\"},{\"attributes\":{\"callback\":null},\"id\":\"1007\",\"type\":\"DataRange1d\"},{\"attributes\":{},\"id\":\"1011\",\"type\":\"LinearScale\"},{\"attributes\":{\"source\":{\"id\":\"1036\",\"type\":\"ColumnDataSource\"}},\"id\":\"1040\",\"type\":\"CDSView\"},{\"attributes\":{\"callback\":null,\"data\":{\"x\":[],\"y\":[]},\"selected\":{\"id\":\"1046\",\"type\":\"Selection\"},\"selection_policy\":{\"id\":\"1047\",\"type\":\"UnionRenderers\"}},\"id\":\"1036\",\"type\":\"ColumnDataSource\"},{\"attributes\":{\"axis_label\":\"# Iteration\",\"formatter\":{\"id\":\"1045\",\"type\":\"BasicTickFormatter\"},\"ticker\":{\"id\":\"1014\",\"type\":\"BasicTicker\"}},\"id\":\"1013\",\"type\":\"LinearAxis\"},{\"attributes\":{\"fill_color\":{\"value\":\"#1f77b4\"},\"line_color\":{\"value\":\"#1f77b4\"},\"x\":{\"field\":\"x\"},\"y\":{\"field\":\"y\"}},\"id\":\"1037\",\"type\":\"Scatter\"},{\"attributes\":{},\"id\":\"1014\",\"type\":\"BasicTicker\"}],\"root_ids\":[\"1002\"]},\"title\":\"Bokeh Application\",\"version\":\"1.4.0\"}};\n",
       "  var render_items = [{\"docid\":\"87f47ca5-9dab-48d5-9c6a-cec201e5a1ba\",\"notebook_comms_target\":\"1049\",\"roots\":{\"1002\":\"b0f760e3-7e26-4182-b7f5-e73913f84ae7\"}}];\n",
       "  root.Bokeh.embed.embed_items_notebook(docs_json, render_items);\n",
       "\n",
       "  }\n",
       "  if (root.Bokeh !== undefined) {\n",
       "    embed_document(root);\n",
       "  } else {\n",
       "    var attempts = 0;\n",
       "    var timer = setInterval(function(root) {\n",
       "      if (root.Bokeh !== undefined) {\n",
       "        clearInterval(timer);\n",
       "        embed_document(root);\n",
       "      } else {\n",
       "        attempts++;\n",
       "        if (attempts > 100) {\n",
       "          clearInterval(timer);\n",
       "          console.log(\"Bokeh: ERROR: Unable to run BokehJS code because BokehJS library is missing\");\n",
       "        }\n",
       "      }\n",
       "    }, 10, root)\n",
       "  }\n",
       "})(window);"
      ],
      "application/vnd.bokehjs_exec.v0+json": ""
     },
     "metadata": {
      "application/vnd.bokehjs_exec.v0+json": {
       "id": "1002"
      }
     },
     "output_type": "display_data"
    },
    {
     "data": {
      "text/html": [
       "<p><code>&lt;Bokeh Notebook handle for <strong>In[10]</strong>&gt;</code></p>"
      ],
      "text/plain": [
       "<bokeh.io.notebook.CommsHandle at 0x7f1c5228fa20>"
      ]
     },
     "execution_count": 10,
     "metadata": {},
     "output_type": "execute_result"
    }
   ],
   "source": [
    "from bokeh.io import push_notebook, show, output_notebook\n",
    "from bokeh.plotting import figure\n",
    "output_notebook()\n",
    "\n",
    "f = figure(title='SciPy Optimisation Progress',\n",
    "           x_axis_label='# Iteration',\n",
    "           y_axis_label='Misfit',\n",
    "           plot_width=800,\n",
    "           plot_height=300)\n",
    "plot = f.scatter([], [])\n",
    "show(f, notebook_handle=True)"
   ]
  },
  {
   "cell_type": "markdown",
   "metadata": {},
   "source": [
    "### Optimisation with SciPy\n",
    "We will use `scipy.optimize.differential_evolution` to find a best fitting model. The method is stochastic in nature (does not use gradient methods) to find the minimium, and can search large areas of candidate space, but often requires larger numbers of function evaluations than conventional gradient based techniques. The scipy solver can easily be exchanged for a method of your favor. If you just want a quick demonstration, you can change the number of maxiter in the solve function to something lower."
   ]
  },
  {
   "cell_type": "code",
   "execution_count": 11,
   "metadata": {},
   "outputs": [
    {
     "name": "stdout",
     "output_type": "stream",
     "text": [
      "Time elapsed: 290.0 s\n",
      "Best model:\n",
      " - Misfit 0.667263\n",
      "--- !pf.DCSource\n",
      "lat: 42.29\n",
      "lon: 13.35\n",
      "north_shift: 10597.18548775804\n",
      "east_shift: 2766.0829073709124\n",
      "depth: 755.0174118148489\n",
      "time: 2009-04-06 01:32:51.039212\n",
      "stf_mode: post\n",
      "magnitude: 6.2078335485375185\n",
      "strike: 131.13191852585066\n",
      "dip: 48.28501488550296\n",
      "rake: -92.73154409236732\n",
      "\n"
     ]
    }
   ],
   "source": [
    "def solve():\n",
    "    t = time.time()\n",
    "    result = scipy.optimize.differential_evolution(\n",
    "        trace_fit,\n",
    "        args=[plot],\n",
    "        bounds=tuple(bounds.values()),\n",
    "        maxiter=1500000,\n",
    "        tol=0.0001,\n",
    "        callback=lambda a, convergence: push_notebook())\n",
    "\n",
    "    source = update_source(result.x)\n",
    "    source.regularize()\n",
    "\n",
    "    print(\"Time elapsed: %.1f s\" % (time.time() - t))\n",
    "    print(\"Best model:\\n - Misfit %f\" % trace_fit(result.x))\n",
    "    print(source)\n",
    "    return result, source\n",
    "\n",
    "\n",
    "# Start the optimisation\n",
    "result, best_source = solve()"
   ]
  },
  {
   "cell_type": "markdown",
   "metadata": {},
   "source": [
    "### Plot the Results\n",
    "Now we plot the synthetic waveforms produced by our the best model vs. the observed traces."
   ]
  },
  {
   "cell_type": "code",
   "execution_count": 12,
   "metadata": {},
   "outputs": [],
   "source": [
    "def plot_traces(result):\n",
    "    nstations = len(stations_list)\n",
    "    response = engine.process(source, targets)\n",
    "    syn_traces = response.pyrocko_traces()\n",
    "\n",
    "    fig, axes = plt.subplots(nstations, squeeze=True, sharex=True)\n",
    "    fig.subplots_adjust(hspace=0)\n",
    "    plt.setp([ax.get_xticklabels() for ax in axes[:-1]], visible=False)\n",
    "\n",
    "    for istation, (obs, syn, target) in enumerate(zip(traces, syn_traces, targets)):\n",
    "        ax = axes[istation]\n",
    "        tp = store.t(phase, base_source, target)\n",
    "        tp_onset = base_source.time + tp\n",
    "        tmin = tp_onset - tmin_fit\n",
    "        tmax = tp_onset + tmax_fit\n",
    "        \n",
    "        syn = process_trace(syn, tmin, tmax)\n",
    "        obs = process_trace(obs, tmin, tmax, lowpass=False, inplace=False)\n",
    "        \n",
    "        s1 = ax.plot(obs.get_xdata(), obs.ydata, color='b')\n",
    "        s2 = ax.plot(syn.get_xdata(), syn.ydata, color='r')\n",
    "        s3 = ax.plot([tp_onset, tp_onset], [tr.ydata.min(), tr.ydata.max()], 'k-', lw=2)\n",
    "\n",
    "        ax.text(-.2, 0.5, stations_list[istation].station,\n",
    "                transform=ax.transAxes)\n",
    "        ax.set_yticklabels([], visible=False)\n",
    "\n",
    "    axes[-1].set_xlabel('Time [s]')\n",
    "    plt.suptitle('Waveform fits for %s-Phase and component %s' % (phase, component))\n",
    "    plt.legend(\n",
    "        (s1[0], s2[0], s3[0]),\n",
    "        ('Data', 'Synthetic','%s Phase-onset' % phase),\n",
    "        loc='upper center',\n",
    "        bbox_to_anchor=(0.5, -2.),\n",
    "        fancybox=True, shadow=True, ncol=5)\n",
    "    \n",
    "    plt.show()"
   ]
  },
  {
   "cell_type": "markdown",
   "metadata": {},
   "source": [
    "Plot the resulting source mechanism and the piercing points of the stations used in the inversion."
   ]
  },
  {
   "cell_type": "code",
   "execution_count": 13,
   "metadata": {},
   "outputs": [
    {
     "data": {
      "image/png": "[encoded data removed]",
      "text/plain": [
       "<Figure size 720x720 with 1 Axes>"
      ]
     },
     "metadata": {
      "needs_background": "light"
     },
     "output_type": "display_data"
    }
   ],
   "source": [
    "from pyrocko import moment_tensor as pmt, cake, orthodrome\n",
    "from pyrocko.plot import beachball\n",
    "\n",
    "size = 1\n",
    "offset = 2.1\n",
    "\n",
    "def plot_source_result_piercing_points(source, stations_list, store):\n",
    "    # source position and mechanism\n",
    "    slat, slon, sdepth = source.lat, source.lon, source.depth\n",
    "    mt = source.pyrocko_moment_tensor()\n",
    "\n",
    "    # receiver positions\n",
    "    rdepth = 0.0\n",
    "    rlatlons = []\n",
    "    for station in stations_list:\n",
    "        rlatlons.append((station.lat, station.lon))\n",
    "\n",
    "    # earth model and phase for takeoff angle computations\n",
    "\n",
    "    store = engine.get_store(store_id)\n",
    "    mod = store.config.earthmodel_1d\n",
    "    phases = cake.PhaseDef.classic('P')\n",
    "    \n",
    "    # setup figure with aspect=1.0/1.0, ranges=[-1.1, 1.1]\n",
    "    fig = plt.figure(figsize=(10., 10.))  # size in inch\n",
    "    fig.subplots_adjust(left=0., right=1., bottom=0., top=1.)\n",
    "    axes = fig.add_subplot(1, 1, 1, aspect=1.0)\n",
    "    axes.set_axis_off()\n",
    "    axes.set_xlim(-1.1, 3.5)\n",
    "    axes.set_ylim(-1.1, 1.1)\n",
    "\n",
    "    projection = 'lambert'\n",
    "\n",
    "    beachball.plot_beachball_mpl(\n",
    "        mt, axes,\n",
    "        position=(0., 0.),\n",
    "        size=size,\n",
    "        color_t=(0.7, 0.4, 0.4),\n",
    "        projection=projection,\n",
    "        size_units='data')\n",
    "\n",
    "    for rlat, rlon in rlatlons:\n",
    "        distance = orthodrome.distance_accurate50m(slat, slon, rlat, rlon)\n",
    "        rays = mod.arrivals(\n",
    "            phases=cake.PhaseDef('P'),\n",
    "            zstart=sdepth, zstop=rdepth, distances=[distance*cake.m2d])\n",
    "\n",
    "        if not rays:\n",
    "            continue\n",
    "\n",
    "        takeoff = rays[0].takeoff_angle()\n",
    "        azi = orthodrome.azimuth(slat, slon, rlat, rlon)\n",
    "\n",
    "        # to spherical coordinates, r, theta, phi in radians\n",
    "        rtp = num.array([[size, num.deg2rad(takeoff), num.deg2rad(90.-azi)]])\n",
    "\n",
    "        # to 3D coordinates (x, y, z)\n",
    "        points = beachball.numpy_rtp2xyz(rtp)\n",
    "\n",
    "        # project to 2D with same projection as used in beachball\n",
    "        x, y = beachball.project(points, projection=projection).T\n",
    "        axes.plot(x, y, '+', ms=10., mew=2.0, mec='black', mfc='none')\n",
    "\n",
    "plot_source_result_piercing_points(source, stations_list, engine)\n",
    "\n"
   ]
  },
  {
   "cell_type": "code",
   "execution_count": 14,
   "metadata": {},
   "outputs": [],
   "source": [
    "def plot_snuffler(result, source):\n",
    "    engine = gf.get_engine()\n",
    "    response = engine.process(source, targets)\n",
    "    syn_traces = response.pyrocko_traces()\n",
    "    obs_traces = []\n",
    "    \n",
    "    for obs, syn, target in zip(traces, syn_traces, targets):\n",
    "        tp = store.t('P', base_source, target)\n",
    "        tmin = base_source.time + tp - tmin_fit\n",
    "        tmax = base_source.time + tp + tmax_fit\n",
    "\n",
    "        syn = process_trace(syn, tmin, tmax)\n",
    "        obs = process_trace(obs, tmin, tmax, lowpass=False, inplace=False)\n",
    "\n",
    "        obs_traces.append(obs)\n",
    "\n",
    "    trace.snuffle(obs_traces + syn_traces, stations=stations_list, events= [event])"
   ]
  },
  {
   "cell_type": "markdown",
   "metadata": {},
   "source": [
    "Next we plot the station distribution with folium (which you might need to install)"
   ]
  },
  {
   "cell_type": "code",
   "execution_count": 15,
   "metadata": {},
   "outputs": [
    {
     "data": {
      "text/html": [
       "<div style=\"width:100%;\"><div style=\"position:relative;width:100%;height:0;padding-bottom:60%;\"><span style=\"color:#565656\">Make this Notebook Trusted to load map: File -> Trust Notebook</span><iframe src=\"about:blank\" style=\"position:absolute;width:100%;height:100%;left:0;top:0;border:none !important;\" data-html=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 onload=\"this.contentDocument.open();this.contentDocument.write(atob(this.getAttribute('data-html')));this.contentDocument.close();\" allowfullscreen webkitallowfullscreen mozallowfullscreen></iframe></div></div>"
      ],
      "text/plain": [
       "<folium.folium.Map at 0x7f1bc335bd68>"
      ]
     },
     "execution_count": 15,
     "metadata": {},
     "output_type": "execute_result"
    }
   ],
   "source": [
    "def plot_stations():\n",
    "    import folium\n",
    "    fmap = folium.Map(\n",
    "        location=[best_source.lat, best_source.lon],\n",
    "        tiles='Stamen Terrain',\n",
    "        zoom_start=3)\n",
    "    folium.Marker([best_source.lat, best_source.lon],\n",
    "        popup=('2009 Aquila Earthquake'),\n",
    "        icon=folium.Icon(color='red', icon='info-sign')).add_to(fmap)\n",
    "                  \n",
    "    for s in stations_list:\n",
    "        folium.Marker([s.lat, s.lon],\n",
    "                      popup='<b>%s</b></h4>' % s.station).add_to(fmap)\n",
    "    fmap.add_child(folium.LatLngPopup())\n",
    "    return fmap\n",
    "    \n",
    "plot_stations()"
   ]
  },
  {
   "cell_type": "code",
   "execution_count": 16,
   "metadata": {},
   "outputs": [
    {
     "data": {
      "image/png": "[encoded data removed]",
      "text/plain": [
       "<Figure size 432x288 with 57 Axes>"
      ]
     },
     "metadata": {
      "needs_background": "light"
     },
     "output_type": "display_data"
    }
   ],
   "source": [
    "plot_traces(result)"
   ]
  },
  {
   "cell_type": "markdown",
   "metadata": {},
   "source": [
    "Alternatively we can plot using snuffler, which will open in a seperate window."
   ]
  },
  {
   "cell_type": "code",
   "execution_count": 17,
   "metadata": {},
   "outputs": [
    {
     "name": "stderr",
     "output_type": "stream",
     "text": [
      "store_superdir not available: /media/asteinbe/moho/gfstores\n",
      "\n",
      " /home/asteinbe/.snufflings/okada/libokada.so: cannot open shared object file: No such file or directory\n",
      "--> run 'make' in okada snuffling directory <--\n",
      "cc.py:pyrocko.gf.seismosizer - WARNING  - store_superdir not available: /media/asteinbe/moho/gfstores\n"
     ]
    }
   ],
   "source": [
    "plot_snuffler(result, best_source)"
   ]
  },
  {
   "cell_type": "code",
   "execution_count": null,
   "metadata": {},
   "outputs": [],
   "source": []
  }
 ],
 "metadata": {
  "kernelspec": {
   "display_name": "Python 3",
   "language": "python",
   "name": "python3"
  },
  "language_info": {
   "codemirror_mode": {
    "name": "ipython",
    "version": 3
   },
   "file_extension": ".py",
   "mimetype": "text/x-python",
   "name": "python",
   "nbconvert_exporter": "python",
   "pygments_lexer": "ipython3",
   "version": "3.6.9"
  }
 },
 "nbformat": 4,
 "nbformat_minor": 2
}
